{
 "cells": [
  {
   "cell_type": "code",
   "execution_count": 1,
   "metadata": {},
   "outputs": [],
   "source": [
    "import pandas as pd\n",
    "import numpy\n",
    "import random\n",
    "import matplotlib.pyplot as plt\n",
    "%matplotlib inline\n",
    "from sklearn.model_selection import train_test_split\n",
    "from keras import models\n",
    "from keras import layers\n",
    "from keras.utils.np_utils import to_categorical\n",
    "from sklearn.preprocessing import LabelBinarizer\n",
    "from keras.preprocessing.text import Tokenizer\n",
    "\n",
    "import warnings\n",
    "warnings.filterwarnings(action='ignore', category=FutureWarning)"
   ]
  },
  {
   "cell_type": "code",
   "execution_count": 2,
   "metadata": {},
   "outputs": [
    {
     "data": {
      "text/html": [
       "<div>\n",
       "<style scoped>\n",
       "    .dataframe tbody tr th:only-of-type {\n",
       "        vertical-align: middle;\n",
       "    }\n",
       "\n",
       "    .dataframe tbody tr th {\n",
       "        vertical-align: top;\n",
       "    }\n",
       "\n",
       "    .dataframe thead th {\n",
       "        text-align: right;\n",
       "    }\n",
       "</style>\n",
       "<table border=\"1\" class=\"dataframe\">\n",
       "  <thead>\n",
       "    <tr style=\"text-align: right;\">\n",
       "      <th></th>\n",
       "      <th>tweet_text</th>\n",
       "      <th>emotion_in_tweet_is_directed_at</th>\n",
       "      <th>is_there_an_emotion_directed_at_a_brand_or_product</th>\n",
       "    </tr>\n",
       "  </thead>\n",
       "  <tbody>\n",
       "    <tr>\n",
       "      <th>0</th>\n",
       "      <td>.@wesley83 I have a 3G iPhone. After 3 hrs twe...</td>\n",
       "      <td>iPhone</td>\n",
       "      <td>Negative emotion</td>\n",
       "    </tr>\n",
       "    <tr>\n",
       "      <th>1</th>\n",
       "      <td>@jessedee Know about @fludapp ? Awesome iPad/i...</td>\n",
       "      <td>iPad or iPhone App</td>\n",
       "      <td>Positive emotion</td>\n",
       "    </tr>\n",
       "    <tr>\n",
       "      <th>2</th>\n",
       "      <td>@swonderlin Can not wait for #iPad 2 also. The...</td>\n",
       "      <td>iPad</td>\n",
       "      <td>Positive emotion</td>\n",
       "    </tr>\n",
       "    <tr>\n",
       "      <th>3</th>\n",
       "      <td>@sxsw I hope this year's festival isn't as cra...</td>\n",
       "      <td>iPad or iPhone App</td>\n",
       "      <td>Negative emotion</td>\n",
       "    </tr>\n",
       "    <tr>\n",
       "      <th>4</th>\n",
       "      <td>@sxtxstate great stuff on Fri #SXSW: Marissa M...</td>\n",
       "      <td>Google</td>\n",
       "      <td>Positive emotion</td>\n",
       "    </tr>\n",
       "  </tbody>\n",
       "</table>\n",
       "</div>"
      ],
      "text/plain": [
       "                                          tweet_text  \\\n",
       "0  .@wesley83 I have a 3G iPhone. After 3 hrs twe...   \n",
       "1  @jessedee Know about @fludapp ? Awesome iPad/i...   \n",
       "2  @swonderlin Can not wait for #iPad 2 also. The...   \n",
       "3  @sxsw I hope this year's festival isn't as cra...   \n",
       "4  @sxtxstate great stuff on Fri #SXSW: Marissa M...   \n",
       "\n",
       "  emotion_in_tweet_is_directed_at  \\\n",
       "0                          iPhone   \n",
       "1              iPad or iPhone App   \n",
       "2                            iPad   \n",
       "3              iPad or iPhone App   \n",
       "4                          Google   \n",
       "\n",
       "  is_there_an_emotion_directed_at_a_brand_or_product  \n",
       "0                                   Negative emotion  \n",
       "1                                   Positive emotion  \n",
       "2                                   Positive emotion  \n",
       "3                                   Negative emotion  \n",
       "4                                   Positive emotion  "
      ]
     },
     "execution_count": 2,
     "metadata": {},
     "output_type": "execute_result"
    }
   ],
   "source": [
    "df = pd.read_csv('Data/tweet_product_company.csv',  encoding = 'unicode_escape')\n",
    "df.head()"
   ]
  },
  {
   "cell_type": "code",
   "execution_count": 3,
   "metadata": {},
   "outputs": [
    {
     "data": {
      "text/html": [
       "<div>\n",
       "<style scoped>\n",
       "    .dataframe tbody tr th:only-of-type {\n",
       "        vertical-align: middle;\n",
       "    }\n",
       "\n",
       "    .dataframe tbody tr th {\n",
       "        vertical-align: top;\n",
       "    }\n",
       "\n",
       "    .dataframe thead th {\n",
       "        text-align: right;\n",
       "    }\n",
       "</style>\n",
       "<table border=\"1\" class=\"dataframe\">\n",
       "  <thead>\n",
       "    <tr style=\"text-align: right;\">\n",
       "      <th></th>\n",
       "      <th>text</th>\n",
       "      <th>category</th>\n",
       "    </tr>\n",
       "  </thead>\n",
       "  <tbody>\n",
       "    <tr>\n",
       "      <th>0</th>\n",
       "      <td>.@wesley83 I have a 3G iPhone. After 3 hrs twe...</td>\n",
       "      <td>Negative emotion</td>\n",
       "    </tr>\n",
       "    <tr>\n",
       "      <th>1</th>\n",
       "      <td>@jessedee Know about @fludapp ? Awesome iPad/i...</td>\n",
       "      <td>Positive emotion</td>\n",
       "    </tr>\n",
       "    <tr>\n",
       "      <th>2</th>\n",
       "      <td>@swonderlin Can not wait for #iPad 2 also. The...</td>\n",
       "      <td>Positive emotion</td>\n",
       "    </tr>\n",
       "    <tr>\n",
       "      <th>3</th>\n",
       "      <td>@sxsw I hope this year's festival isn't as cra...</td>\n",
       "      <td>Negative emotion</td>\n",
       "    </tr>\n",
       "    <tr>\n",
       "      <th>4</th>\n",
       "      <td>@sxtxstate great stuff on Fri #SXSW: Marissa M...</td>\n",
       "      <td>Positive emotion</td>\n",
       "    </tr>\n",
       "  </tbody>\n",
       "</table>\n",
       "</div>"
      ],
      "text/plain": [
       "                                                text          category\n",
       "0  .@wesley83 I have a 3G iPhone. After 3 hrs twe...  Negative emotion\n",
       "1  @jessedee Know about @fludapp ? Awesome iPad/i...  Positive emotion\n",
       "2  @swonderlin Can not wait for #iPad 2 also. The...  Positive emotion\n",
       "3  @sxsw I hope this year's festival isn't as cra...  Negative emotion\n",
       "4  @sxtxstate great stuff on Fri #SXSW: Marissa M...  Positive emotion"
      ]
     },
     "execution_count": 3,
     "metadata": {},
     "output_type": "execute_result"
    }
   ],
   "source": [
    "data = df[['tweet_text', 'is_there_an_emotion_directed_at_a_brand_or_product']]\n",
    "data = data.rename(columns = {'tweet_text' : 'text', 'is_there_an_emotion_directed_at_a_brand_or_product' : 'category'})\n",
    "data['category'] = data['category'].replace(\"[',]\", \"\", regex=True)\n",
    "data['category'].replace('No emotion toward brand or product', 'Neutral emotion', inplace=True)\n",
    "data['category'].replace('I cant tell', 'Neutral emotion', inplace=True)\n",
    "data.head()"
   ]
  },
  {
   "cell_type": "code",
   "execution_count": 4,
   "metadata": {},
   "outputs": [],
   "source": [
    "data.dropna(inplace=True)\n",
    "data['text'] = data['text'].str.replace('@[A-Za-z0-9_]+', '', regex=True)\n",
    "data['text'] = data['text'].str.replace('#[A-Za-z0-9_]+', '', regex=True)"
   ]
  },
  {
   "cell_type": "code",
   "execution_count": 5,
   "metadata": {},
   "outputs": [],
   "source": [
    "y = data['category']\n",
    "X = data['text']\n",
    "X_train, X_test, y_train, y_test = train_test_split(X, y, test_size=0.25, random_state=42)"
   ]
  },
  {
   "cell_type": "code",
   "execution_count": 6,
   "metadata": {},
   "outputs": [],
   "source": [
    "X_train_final, X_val, y_train_final, y_val = train_test_split(X_train, y_train, test_size=0.20, random_state=42)"
   ]
  },
  {
   "cell_type": "code",
   "execution_count": 7,
   "metadata": {},
   "outputs": [],
   "source": [
    "tokenizer = Tokenizer(num_words=2000)\n",
    "tokenizer.fit_on_texts(X_train_final)\n",
    "X_train_tokens = tokenizer.texts_to_matrix(X_train_final, mode='binary')\n",
    "X_val_tokens = tokenizer.texts_to_matrix(X_val, mode='binary')\n",
    "X_test_tokens = tokenizer.texts_to_matrix(X_test, mode='binary')"
   ]
  },
  {
   "cell_type": "code",
   "execution_count": 8,
   "metadata": {},
   "outputs": [],
   "source": [
    "lb = LabelBinarizer()\n",
    "lb.fit(y_train_final)\n",
    "y_train_lb = to_categorical(lb.transform(y_train_final), num_classes=3)[:, :, 1]\n",
    "y_val_lb = to_categorical(lb.transform(y_val), num_classes=3)[:, :, 1]\n",
    "y_test_lb = to_categorical(lb.transform(y_test), num_classes=3)[:, :, 1]"
   ]
  },
  {
   "cell_type": "code",
   "execution_count": 51,
   "metadata": {},
   "outputs": [],
   "source": [
    "random.seed(123)\n",
    "baseline_model = models.Sequential()\n",
    "baseline_model.add(layers.Dense(50, activation='relu', input_shape=(2000,)))\n",
    "baseline_model.add(layers.Dense(25, activation='relu'))\n",
    "baseline_model.add(layers.Dense(3, activation='softmax'))"
   ]
  },
  {
   "cell_type": "code",
   "execution_count": 52,
   "metadata": {},
   "outputs": [],
   "source": [
    "baseline_model.compile(optimizer='SGD', loss='categorical_crossentropy', metrics=['accuracy'])"
   ]
  },
  {
   "cell_type": "code",
   "execution_count": 53,
   "metadata": {},
   "outputs": [
    {
     "data": {
      "text/plain": [
       "{'Negative emotion': 5.560652395514781,\n",
       " 'Neutral emotion': 0.5382869548056048,\n",
       " 'Positive emotion': 1.039047619047619}"
      ]
     },
     "execution_count": 53,
     "metadata": {},
     "output_type": "execute_result"
    }
   ],
   "source": [
    "from sklearn.utils import compute_class_weight\n",
    "import numpy as np\n",
    "class_weights = compute_class_weight(class_weight = \"balanced\",\n",
    "                                     classes = np.unique(y_train_final),\n",
    "                                     y = y_train_final)\n",
    "class_weights = dict(zip(np.unique(y_train_final), class_weights))\n",
    "class_weights"
   ]
  },
  {
   "cell_type": "code",
   "execution_count": 54,
   "metadata": {},
   "outputs": [
    {
     "name": "stdout",
     "output_type": "stream",
     "text": [
      "Epoch 1/150\n",
      " 7/22 [========>.....................] - ETA: 0s - loss: 1.0591 - accuracy: 0.5753"
     ]
    },
    {
     "name": "stderr",
     "output_type": "stream",
     "text": [
      "2023-02-28 13:58:33.993835: I tensorflow/core/grappler/optimizers/custom_graph_optimizer_registry.cc:113] Plugin optimizer for device_type GPU is enabled.\n"
     ]
    },
    {
     "name": "stdout",
     "output_type": "stream",
     "text": [
      "22/22 [==============================] - 1s 17ms/step - loss: 1.1024 - accuracy: 0.5681 - val_loss: 1.0635 - val_accuracy: 0.5469\n",
      "Epoch 2/150\n",
      "15/22 [===================>..........] - ETA: 0s - loss: 1.1078 - accuracy: 0.5417"
     ]
    },
    {
     "name": "stderr",
     "output_type": "stream",
     "text": [
      "2023-02-28 13:58:34.365160: I tensorflow/core/grappler/optimizers/custom_graph_optimizer_registry.cc:113] Plugin optimizer for device_type GPU is enabled.\n"
     ]
    },
    {
     "name": "stdout",
     "output_type": "stream",
     "text": [
      "22/22 [==============================] - 0s 10ms/step - loss: 1.0997 - accuracy: 0.5446 - val_loss: 1.0671 - val_accuracy: 0.5213\n",
      "Epoch 3/150\n",
      "22/22 [==============================] - 0s 10ms/step - loss: 1.0976 - accuracy: 0.5316 - val_loss: 1.0709 - val_accuracy: 0.5088\n",
      "Epoch 4/150\n",
      "22/22 [==============================] - 0s 12ms/step - loss: 1.0955 - accuracy: 0.5197 - val_loss: 1.0742 - val_accuracy: 0.4868\n",
      "Epoch 5/150\n",
      "22/22 [==============================] - 0s 10ms/step - loss: 1.0936 - accuracy: 0.5001 - val_loss: 1.0760 - val_accuracy: 0.4780\n",
      "Epoch 6/150\n",
      "22/22 [==============================] - 0s 10ms/step - loss: 1.0918 - accuracy: 0.4867 - val_loss: 1.0768 - val_accuracy: 0.4714\n",
      "Epoch 7/150\n",
      "22/22 [==============================] - 0s 10ms/step - loss: 1.0900 - accuracy: 0.4801 - val_loss: 1.0762 - val_accuracy: 0.4648\n",
      "Epoch 8/150\n",
      "22/22 [==============================] - 0s 10ms/step - loss: 1.0884 - accuracy: 0.4680 - val_loss: 1.0749 - val_accuracy: 0.4714\n",
      "Epoch 9/150\n",
      "22/22 [==============================] - 0s 10ms/step - loss: 1.0866 - accuracy: 0.4788 - val_loss: 1.0751 - val_accuracy: 0.4619\n",
      "Epoch 10/150\n",
      "22/22 [==============================] - 0s 10ms/step - loss: 1.0847 - accuracy: 0.4748 - val_loss: 1.0735 - val_accuracy: 0.4611\n",
      "Epoch 11/150\n",
      "22/22 [==============================] - 0s 10ms/step - loss: 1.0827 - accuracy: 0.4781 - val_loss: 1.0715 - val_accuracy: 0.4677\n",
      "Epoch 12/150\n",
      "22/22 [==============================] - 0s 10ms/step - loss: 1.0806 - accuracy: 0.4808 - val_loss: 1.0705 - val_accuracy: 0.4699\n",
      "Epoch 13/150\n",
      "22/22 [==============================] - 0s 10ms/step - loss: 1.0783 - accuracy: 0.4812 - val_loss: 1.0664 - val_accuracy: 0.4787\n",
      "Epoch 14/150\n",
      "22/22 [==============================] - 0s 10ms/step - loss: 1.0760 - accuracy: 0.4917 - val_loss: 1.0633 - val_accuracy: 0.4824\n",
      "Epoch 15/150\n",
      "22/22 [==============================] - 0s 10ms/step - loss: 1.0735 - accuracy: 0.4937 - val_loss: 1.0606 - val_accuracy: 0.4919\n",
      "Epoch 16/150\n",
      "22/22 [==============================] - 0s 10ms/step - loss: 1.0709 - accuracy: 0.5010 - val_loss: 1.0568 - val_accuracy: 0.4868\n",
      "Epoch 17/150\n",
      "22/22 [==============================] - 0s 11ms/step - loss: 1.0681 - accuracy: 0.5085 - val_loss: 1.0551 - val_accuracy: 0.4795\n",
      "Epoch 18/150\n",
      "22/22 [==============================] - 0s 10ms/step - loss: 1.0651 - accuracy: 0.5116 - val_loss: 1.0528 - val_accuracy: 0.4773\n",
      "Epoch 19/150\n",
      "22/22 [==============================] - 0s 10ms/step - loss: 1.0619 - accuracy: 0.5019 - val_loss: 1.0495 - val_accuracy: 0.4780\n",
      "Epoch 20/150\n",
      "22/22 [==============================] - 0s 10ms/step - loss: 1.0587 - accuracy: 0.4990 - val_loss: 1.0460 - val_accuracy: 0.4795\n",
      "Epoch 21/150\n",
      "22/22 [==============================] - 0s 10ms/step - loss: 1.0554 - accuracy: 0.5014 - val_loss: 1.0424 - val_accuracy: 0.4824\n",
      "Epoch 22/150\n",
      "22/22 [==============================] - 0s 10ms/step - loss: 1.0519 - accuracy: 0.5008 - val_loss: 1.0394 - val_accuracy: 0.4868\n",
      "Epoch 23/150\n",
      "22/22 [==============================] - 0s 10ms/step - loss: 1.0485 - accuracy: 0.5017 - val_loss: 1.0349 - val_accuracy: 0.4912\n",
      "Epoch 24/150\n",
      "22/22 [==============================] - 0s 10ms/step - loss: 1.0449 - accuracy: 0.5030 - val_loss: 1.0340 - val_accuracy: 0.4824\n",
      "Epoch 25/150\n",
      "22/22 [==============================] - 0s 10ms/step - loss: 1.0413 - accuracy: 0.4999 - val_loss: 1.0319 - val_accuracy: 0.4787\n",
      "Epoch 26/150\n",
      "22/22 [==============================] - 0s 10ms/step - loss: 1.0377 - accuracy: 0.5003 - val_loss: 1.0299 - val_accuracy: 0.4758\n",
      "Epoch 27/150\n",
      "22/22 [==============================] - 0s 10ms/step - loss: 1.0341 - accuracy: 0.4942 - val_loss: 1.0292 - val_accuracy: 0.4699\n",
      "Epoch 28/150\n",
      "22/22 [==============================] - 0s 10ms/step - loss: 1.0302 - accuracy: 0.4887 - val_loss: 1.0229 - val_accuracy: 0.4758\n",
      "Epoch 29/150\n",
      "22/22 [==============================] - 0s 10ms/step - loss: 1.0266 - accuracy: 0.4902 - val_loss: 1.0204 - val_accuracy: 0.4758\n",
      "Epoch 30/150\n",
      "22/22 [==============================] - 0s 10ms/step - loss: 1.0227 - accuracy: 0.4889 - val_loss: 1.0166 - val_accuracy: 0.4736\n",
      "Epoch 31/150\n",
      "22/22 [==============================] - 0s 10ms/step - loss: 1.0191 - accuracy: 0.4913 - val_loss: 1.0147 - val_accuracy: 0.4707\n",
      "Epoch 32/150\n",
      "22/22 [==============================] - 0s 10ms/step - loss: 1.0154 - accuracy: 0.4918 - val_loss: 1.0167 - val_accuracy: 0.4648\n",
      "Epoch 33/150\n",
      "22/22 [==============================] - 0s 10ms/step - loss: 1.0116 - accuracy: 0.4836 - val_loss: 1.0143 - val_accuracy: 0.4655\n",
      "Epoch 34/150\n",
      "22/22 [==============================] - 0s 9ms/step - loss: 1.0079 - accuracy: 0.4847 - val_loss: 1.0123 - val_accuracy: 0.4597\n",
      "Epoch 35/150\n",
      "22/22 [==============================] - 0s 9ms/step - loss: 1.0042 - accuracy: 0.4797 - val_loss: 1.0090 - val_accuracy: 0.4626\n",
      "Epoch 36/150\n",
      "22/22 [==============================] - 0s 10ms/step - loss: 1.0006 - accuracy: 0.4838 - val_loss: 1.0074 - val_accuracy: 0.4633\n",
      "Epoch 37/150\n",
      "22/22 [==============================] - 0s 10ms/step - loss: 0.9970 - accuracy: 0.4840 - val_loss: 1.0046 - val_accuracy: 0.4611\n",
      "Epoch 38/150\n",
      "22/22 [==============================] - 0s 10ms/step - loss: 0.9935 - accuracy: 0.4860 - val_loss: 1.0025 - val_accuracy: 0.4619\n",
      "Epoch 39/150\n",
      "22/22 [==============================] - 0s 10ms/step - loss: 0.9901 - accuracy: 0.4907 - val_loss: 1.0017 - val_accuracy: 0.4575\n",
      "Epoch 40/150\n",
      "22/22 [==============================] - 0s 10ms/step - loss: 0.9866 - accuracy: 0.4838 - val_loss: 1.0012 - val_accuracy: 0.4553\n",
      "Epoch 41/150\n",
      "22/22 [==============================] - 0s 10ms/step - loss: 0.9830 - accuracy: 0.4889 - val_loss: 1.0013 - val_accuracy: 0.4531\n",
      "Epoch 42/150\n",
      "22/22 [==============================] - 0s 10ms/step - loss: 0.9793 - accuracy: 0.4862 - val_loss: 0.9978 - val_accuracy: 0.4545\n",
      "Epoch 43/150\n",
      "22/22 [==============================] - 0s 10ms/step - loss: 0.9757 - accuracy: 0.4884 - val_loss: 0.9961 - val_accuracy: 0.4582\n",
      "Epoch 44/150\n",
      "22/22 [==============================] - 0s 10ms/step - loss: 0.9723 - accuracy: 0.4876 - val_loss: 0.9942 - val_accuracy: 0.4575\n",
      "Epoch 45/150\n",
      "22/22 [==============================] - 0s 9ms/step - loss: 0.9687 - accuracy: 0.4891 - val_loss: 0.9932 - val_accuracy: 0.4567\n",
      "Epoch 46/150\n",
      "22/22 [==============================] - 0s 10ms/step - loss: 0.9652 - accuracy: 0.4911 - val_loss: 0.9930 - val_accuracy: 0.4597\n",
      "Epoch 47/150\n",
      "22/22 [==============================] - 0s 10ms/step - loss: 0.9616 - accuracy: 0.4874 - val_loss: 0.9843 - val_accuracy: 0.4604\n",
      "Epoch 48/150\n",
      "22/22 [==============================] - 0s 10ms/step - loss: 0.9584 - accuracy: 0.4975 - val_loss: 0.9836 - val_accuracy: 0.4626\n",
      "Epoch 49/150\n",
      "22/22 [==============================] - 0s 10ms/step - loss: 0.9551 - accuracy: 0.4955 - val_loss: 0.9851 - val_accuracy: 0.4633\n",
      "Epoch 50/150\n",
      "22/22 [==============================] - 0s 10ms/step - loss: 0.9515 - accuracy: 0.4973 - val_loss: 0.9812 - val_accuracy: 0.4633\n",
      "Epoch 51/150\n",
      "22/22 [==============================] - 0s 10ms/step - loss: 0.9483 - accuracy: 0.4994 - val_loss: 0.9797 - val_accuracy: 0.4648\n",
      "Epoch 52/150\n",
      "22/22 [==============================] - 0s 10ms/step - loss: 0.9449 - accuracy: 0.5038 - val_loss: 0.9848 - val_accuracy: 0.4655\n",
      "Epoch 53/150\n",
      "22/22 [==============================] - 0s 10ms/step - loss: 0.9413 - accuracy: 0.5003 - val_loss: 0.9787 - val_accuracy: 0.4655\n",
      "Epoch 54/150\n",
      "22/22 [==============================] - 0s 10ms/step - loss: 0.9380 - accuracy: 0.5021 - val_loss: 0.9781 - val_accuracy: 0.4677\n",
      "Epoch 55/150\n",
      "22/22 [==============================] - 0s 10ms/step - loss: 0.9345 - accuracy: 0.5023 - val_loss: 0.9775 - val_accuracy: 0.4670\n",
      "Epoch 56/150\n",
      "22/22 [==============================] - 0s 10ms/step - loss: 0.9311 - accuracy: 0.5074 - val_loss: 0.9797 - val_accuracy: 0.4692\n",
      "Epoch 57/150\n",
      "22/22 [==============================] - 0s 10ms/step - loss: 0.9278 - accuracy: 0.5080 - val_loss: 0.9813 - val_accuracy: 0.4707\n",
      "Epoch 58/150\n",
      "22/22 [==============================] - 0s 9ms/step - loss: 0.9243 - accuracy: 0.5096 - val_loss: 0.9771 - val_accuracy: 0.4721\n",
      "Epoch 59/150\n"
     ]
    },
    {
     "name": "stdout",
     "output_type": "stream",
     "text": [
      "22/22 [==============================] - 0s 10ms/step - loss: 0.9211 - accuracy: 0.5093 - val_loss: 0.9766 - val_accuracy: 0.4729\n",
      "Epoch 60/150\n",
      "22/22 [==============================] - 0s 10ms/step - loss: 0.9176 - accuracy: 0.5116 - val_loss: 0.9754 - val_accuracy: 0.4765\n",
      "Epoch 61/150\n",
      "22/22 [==============================] - 0s 10ms/step - loss: 0.9144 - accuracy: 0.5115 - val_loss: 0.9721 - val_accuracy: 0.4787\n",
      "Epoch 62/150\n",
      "22/22 [==============================] - 0s 9ms/step - loss: 0.9110 - accuracy: 0.5137 - val_loss: 0.9666 - val_accuracy: 0.4817\n",
      "Epoch 63/150\n",
      "22/22 [==============================] - 0s 9ms/step - loss: 0.9076 - accuracy: 0.5192 - val_loss: 0.9719 - val_accuracy: 0.4758\n",
      "Epoch 64/150\n",
      "22/22 [==============================] - 0s 10ms/step - loss: 0.9044 - accuracy: 0.5144 - val_loss: 0.9664 - val_accuracy: 0.4795\n",
      "Epoch 65/150\n",
      "22/22 [==============================] - 0s 9ms/step - loss: 0.9009 - accuracy: 0.5177 - val_loss: 0.9701 - val_accuracy: 0.4817\n",
      "Epoch 66/150\n",
      "22/22 [==============================] - 0s 10ms/step - loss: 0.8977 - accuracy: 0.5164 - val_loss: 0.9685 - val_accuracy: 0.4817\n",
      "Epoch 67/150\n",
      "22/22 [==============================] - 0s 10ms/step - loss: 0.8942 - accuracy: 0.5197 - val_loss: 0.9705 - val_accuracy: 0.4773\n",
      "Epoch 68/150\n",
      "22/22 [==============================] - 0s 10ms/step - loss: 0.8907 - accuracy: 0.5217 - val_loss: 0.9642 - val_accuracy: 0.4839\n",
      "Epoch 69/150\n",
      "22/22 [==============================] - 0s 10ms/step - loss: 0.8874 - accuracy: 0.5225 - val_loss: 0.9617 - val_accuracy: 0.4853\n",
      "Epoch 70/150\n",
      "22/22 [==============================] - 0s 9ms/step - loss: 0.8839 - accuracy: 0.5261 - val_loss: 0.9666 - val_accuracy: 0.4831\n",
      "Epoch 71/150\n",
      "22/22 [==============================] - 0s 10ms/step - loss: 0.8806 - accuracy: 0.5254 - val_loss: 0.9602 - val_accuracy: 0.4890\n",
      "Epoch 72/150\n",
      "22/22 [==============================] - 0s 10ms/step - loss: 0.8772 - accuracy: 0.5294 - val_loss: 0.9515 - val_accuracy: 0.4949\n",
      "Epoch 73/150\n",
      "22/22 [==============================] - 0s 10ms/step - loss: 0.8739 - accuracy: 0.5347 - val_loss: 0.9568 - val_accuracy: 0.4897\n",
      "Epoch 74/150\n",
      "22/22 [==============================] - 0s 10ms/step - loss: 0.8705 - accuracy: 0.5333 - val_loss: 0.9576 - val_accuracy: 0.4890\n",
      "Epoch 75/150\n",
      "22/22 [==============================] - 0s 10ms/step - loss: 0.8670 - accuracy: 0.5336 - val_loss: 0.9487 - val_accuracy: 0.4978\n",
      "Epoch 76/150\n",
      "22/22 [==============================] - 0s 9ms/step - loss: 0.8638 - accuracy: 0.5373 - val_loss: 0.9471 - val_accuracy: 0.4993\n",
      "Epoch 77/150\n",
      "22/22 [==============================] - 0s 9ms/step - loss: 0.8603 - accuracy: 0.5419 - val_loss: 0.9468 - val_accuracy: 0.5029\n",
      "Epoch 78/150\n",
      "22/22 [==============================] - 0s 10ms/step - loss: 0.8567 - accuracy: 0.5445 - val_loss: 0.9533 - val_accuracy: 0.4912\n",
      "Epoch 79/150\n",
      "22/22 [==============================] - 0s 10ms/step - loss: 0.8534 - accuracy: 0.5454 - val_loss: 0.9536 - val_accuracy: 0.4905\n",
      "Epoch 80/150\n",
      "22/22 [==============================] - 0s 9ms/step - loss: 0.8499 - accuracy: 0.5452 - val_loss: 0.9455 - val_accuracy: 0.4963\n",
      "Epoch 81/150\n",
      "22/22 [==============================] - 0s 10ms/step - loss: 0.8464 - accuracy: 0.5489 - val_loss: 0.9474 - val_accuracy: 0.4941\n",
      "Epoch 82/150\n",
      "22/22 [==============================] - 0s 10ms/step - loss: 0.8433 - accuracy: 0.5507 - val_loss: 0.9479 - val_accuracy: 0.4949\n",
      "Epoch 83/150\n",
      "22/22 [==============================] - 0s 10ms/step - loss: 0.8396 - accuracy: 0.5533 - val_loss: 0.9470 - val_accuracy: 0.4963\n",
      "Epoch 84/150\n",
      "22/22 [==============================] - 0s 11ms/step - loss: 0.8362 - accuracy: 0.5540 - val_loss: 0.9433 - val_accuracy: 0.5022\n",
      "Epoch 85/150\n",
      "22/22 [==============================] - 0s 10ms/step - loss: 0.8326 - accuracy: 0.5522 - val_loss: 0.9353 - val_accuracy: 0.5081\n",
      "Epoch 86/150\n",
      "22/22 [==============================] - 0s 10ms/step - loss: 0.8293 - accuracy: 0.5600 - val_loss: 0.9256 - val_accuracy: 0.5095\n",
      "Epoch 87/150\n",
      "22/22 [==============================] - 0s 10ms/step - loss: 0.8262 - accuracy: 0.5635 - val_loss: 0.9263 - val_accuracy: 0.5103\n",
      "Epoch 88/150\n",
      "22/22 [==============================] - 0s 11ms/step - loss: 0.8228 - accuracy: 0.5665 - val_loss: 0.9297 - val_accuracy: 0.5110\n",
      "Epoch 89/150\n",
      "22/22 [==============================] - 0s 11ms/step - loss: 0.8190 - accuracy: 0.5681 - val_loss: 0.9363 - val_accuracy: 0.5125\n",
      "Epoch 90/150\n",
      "22/22 [==============================] - 0s 10ms/step - loss: 0.8155 - accuracy: 0.5670 - val_loss: 0.9288 - val_accuracy: 0.5183\n",
      "Epoch 91/150\n",
      "22/22 [==============================] - 0s 10ms/step - loss: 0.8122 - accuracy: 0.5699 - val_loss: 0.9277 - val_accuracy: 0.5205\n",
      "Epoch 92/150\n",
      "22/22 [==============================] - 0s 10ms/step - loss: 0.8087 - accuracy: 0.5709 - val_loss: 0.9408 - val_accuracy: 0.5081\n",
      "Epoch 93/150\n",
      "22/22 [==============================] - 0s 10ms/step - loss: 0.8055 - accuracy: 0.5701 - val_loss: 0.9260 - val_accuracy: 0.5205\n",
      "Epoch 94/150\n",
      "22/22 [==============================] - 0s 10ms/step - loss: 0.8017 - accuracy: 0.5703 - val_loss: 0.9251 - val_accuracy: 0.5213\n",
      "Epoch 95/150\n",
      "22/22 [==============================] - 0s 10ms/step - loss: 0.7983 - accuracy: 0.5718 - val_loss: 0.9148 - val_accuracy: 0.5227\n",
      "Epoch 96/150\n",
      "22/22 [==============================] - 0s 10ms/step - loss: 0.7948 - accuracy: 0.5780 - val_loss: 0.9110 - val_accuracy: 0.5249\n",
      "Epoch 97/150\n",
      "22/22 [==============================] - 0s 10ms/step - loss: 0.7913 - accuracy: 0.5802 - val_loss: 0.9228 - val_accuracy: 0.5220\n",
      "Epoch 98/150\n",
      "22/22 [==============================] - 0s 9ms/step - loss: 0.7879 - accuracy: 0.5815 - val_loss: 0.9144 - val_accuracy: 0.5249\n",
      "Epoch 99/150\n",
      "22/22 [==============================] - 0s 10ms/step - loss: 0.7843 - accuracy: 0.5842 - val_loss: 0.9141 - val_accuracy: 0.5249\n",
      "Epoch 100/150\n",
      "22/22 [==============================] - 0s 11ms/step - loss: 0.7808 - accuracy: 0.5866 - val_loss: 0.9233 - val_accuracy: 0.5227\n",
      "Epoch 101/150\n",
      "22/22 [==============================] - 0s 11ms/step - loss: 0.7775 - accuracy: 0.5833 - val_loss: 0.9031 - val_accuracy: 0.5323\n",
      "Epoch 102/150\n",
      "22/22 [==============================] - 0s 10ms/step - loss: 0.7742 - accuracy: 0.5885 - val_loss: 0.9051 - val_accuracy: 0.5315\n",
      "Epoch 103/150\n",
      "22/22 [==============================] - 0s 10ms/step - loss: 0.7706 - accuracy: 0.5905 - val_loss: 0.9133 - val_accuracy: 0.5257\n",
      "Epoch 104/150\n",
      "22/22 [==============================] - 0s 10ms/step - loss: 0.7670 - accuracy: 0.5907 - val_loss: 0.9045 - val_accuracy: 0.5330\n",
      "Epoch 105/150\n",
      "22/22 [==============================] - 0s 10ms/step - loss: 0.7636 - accuracy: 0.5923 - val_loss: 0.9040 - val_accuracy: 0.5345\n",
      "Epoch 106/150\n",
      "22/22 [==============================] - 0s 10ms/step - loss: 0.7601 - accuracy: 0.5938 - val_loss: 0.9013 - val_accuracy: 0.5330\n",
      "Epoch 107/150\n",
      "22/22 [==============================] - 0s 10ms/step - loss: 0.7569 - accuracy: 0.5962 - val_loss: 0.9007 - val_accuracy: 0.5352\n",
      "Epoch 108/150\n",
      "22/22 [==============================] - 0s 10ms/step - loss: 0.7535 - accuracy: 0.5956 - val_loss: 0.9019 - val_accuracy: 0.5359\n",
      "Epoch 109/150\n",
      "22/22 [==============================] - 0s 10ms/step - loss: 0.7498 - accuracy: 0.5980 - val_loss: 0.9007 - val_accuracy: 0.5403\n",
      "Epoch 110/150\n",
      "22/22 [==============================] - 0s 10ms/step - loss: 0.7462 - accuracy: 0.5982 - val_loss: 0.8985 - val_accuracy: 0.5418\n",
      "Epoch 111/150\n",
      "22/22 [==============================] - 0s 10ms/step - loss: 0.7428 - accuracy: 0.5978 - val_loss: 0.9019 - val_accuracy: 0.5411\n",
      "Epoch 112/150\n",
      "22/22 [==============================] - 0s 10ms/step - loss: 0.7395 - accuracy: 0.5998 - val_loss: 0.8951 - val_accuracy: 0.5411\n",
      "Epoch 113/150\n",
      "22/22 [==============================] - 0s 10ms/step - loss: 0.7361 - accuracy: 0.6009 - val_loss: 0.8990 - val_accuracy: 0.5425\n",
      "Epoch 114/150\n",
      "22/22 [==============================] - 0s 10ms/step - loss: 0.7328 - accuracy: 0.6031 - val_loss: 0.8988 - val_accuracy: 0.5403\n",
      "Epoch 115/150\n",
      "22/22 [==============================] - 0s 10ms/step - loss: 0.7290 - accuracy: 0.6038 - val_loss: 0.9092 - val_accuracy: 0.5418\n",
      "Epoch 116/150\n"
     ]
    },
    {
     "name": "stdout",
     "output_type": "stream",
     "text": [
      "22/22 [==============================] - 0s 10ms/step - loss: 0.7261 - accuracy: 0.6059 - val_loss: 0.8959 - val_accuracy: 0.5425\n",
      "Epoch 117/150\n",
      "22/22 [==============================] - 0s 10ms/step - loss: 0.7223 - accuracy: 0.6086 - val_loss: 0.9015 - val_accuracy: 0.5455\n",
      "Epoch 118/150\n",
      "22/22 [==============================] - 0s 10ms/step - loss: 0.7189 - accuracy: 0.6082 - val_loss: 0.8857 - val_accuracy: 0.5499\n",
      "Epoch 119/150\n",
      "22/22 [==============================] - 0s 10ms/step - loss: 0.7154 - accuracy: 0.6121 - val_loss: 0.9016 - val_accuracy: 0.5440\n",
      "Epoch 120/150\n",
      "22/22 [==============================] - 0s 9ms/step - loss: 0.7120 - accuracy: 0.6110 - val_loss: 0.8841 - val_accuracy: 0.5513\n",
      "Epoch 121/150\n",
      "22/22 [==============================] - 0s 10ms/step - loss: 0.7086 - accuracy: 0.6132 - val_loss: 0.8712 - val_accuracy: 0.5528\n",
      "Epoch 122/150\n",
      "22/22 [==============================] - 0s 10ms/step - loss: 0.7055 - accuracy: 0.6189 - val_loss: 0.8928 - val_accuracy: 0.5513\n",
      "Epoch 123/150\n",
      "22/22 [==============================] - 0s 10ms/step - loss: 0.7021 - accuracy: 0.6169 - val_loss: 0.8854 - val_accuracy: 0.5521\n",
      "Epoch 124/150\n",
      "22/22 [==============================] - 0s 10ms/step - loss: 0.6987 - accuracy: 0.6205 - val_loss: 0.8754 - val_accuracy: 0.5521\n",
      "Epoch 125/150\n",
      "22/22 [==============================] - 0s 10ms/step - loss: 0.6951 - accuracy: 0.6222 - val_loss: 0.8748 - val_accuracy: 0.5521\n",
      "Epoch 126/150\n",
      "22/22 [==============================] - 0s 10ms/step - loss: 0.6919 - accuracy: 0.6242 - val_loss: 0.8733 - val_accuracy: 0.5543\n",
      "Epoch 127/150\n",
      "22/22 [==============================] - 0s 10ms/step - loss: 0.6885 - accuracy: 0.6258 - val_loss: 0.8775 - val_accuracy: 0.5535\n",
      "Epoch 128/150\n",
      "22/22 [==============================] - 0s 10ms/step - loss: 0.6853 - accuracy: 0.6249 - val_loss: 0.8768 - val_accuracy: 0.5557\n",
      "Epoch 129/150\n",
      "22/22 [==============================] - 0s 10ms/step - loss: 0.6820 - accuracy: 0.6268 - val_loss: 0.8768 - val_accuracy: 0.5550\n",
      "Epoch 130/150\n",
      "22/22 [==============================] - 0s 10ms/step - loss: 0.6785 - accuracy: 0.6299 - val_loss: 0.8810 - val_accuracy: 0.5521\n",
      "Epoch 131/150\n",
      "22/22 [==============================] - 0s 10ms/step - loss: 0.6754 - accuracy: 0.6302 - val_loss: 0.8733 - val_accuracy: 0.5572\n",
      "Epoch 132/150\n",
      "22/22 [==============================] - 0s 10ms/step - loss: 0.6721 - accuracy: 0.6291 - val_loss: 0.8713 - val_accuracy: 0.5572\n",
      "Epoch 133/150\n",
      "22/22 [==============================] - 0s 10ms/step - loss: 0.6689 - accuracy: 0.6313 - val_loss: 0.8623 - val_accuracy: 0.5587\n",
      "Epoch 134/150\n",
      "22/22 [==============================] - 0s 10ms/step - loss: 0.6657 - accuracy: 0.6352 - val_loss: 0.8663 - val_accuracy: 0.5609\n",
      "Epoch 135/150\n",
      "22/22 [==============================] - 0s 10ms/step - loss: 0.6622 - accuracy: 0.6376 - val_loss: 0.8740 - val_accuracy: 0.5572\n",
      "Epoch 136/150\n",
      "22/22 [==============================] - 0s 10ms/step - loss: 0.6590 - accuracy: 0.6370 - val_loss: 0.8744 - val_accuracy: 0.5572\n",
      "Epoch 137/150\n",
      "22/22 [==============================] - 0s 10ms/step - loss: 0.6563 - accuracy: 0.6390 - val_loss: 0.8621 - val_accuracy: 0.5652\n",
      "Epoch 138/150\n",
      "22/22 [==============================] - 0s 10ms/step - loss: 0.6528 - accuracy: 0.6396 - val_loss: 0.8746 - val_accuracy: 0.5550\n",
      "Epoch 139/150\n",
      "22/22 [==============================] - 0s 10ms/step - loss: 0.6498 - accuracy: 0.6403 - val_loss: 0.8650 - val_accuracy: 0.5616\n",
      "Epoch 140/150\n",
      "22/22 [==============================] - 0s 10ms/step - loss: 0.6463 - accuracy: 0.6422 - val_loss: 0.8596 - val_accuracy: 0.5667\n",
      "Epoch 141/150\n",
      "22/22 [==============================] - 0s 10ms/step - loss: 0.6432 - accuracy: 0.6427 - val_loss: 0.8701 - val_accuracy: 0.5594\n",
      "Epoch 142/150\n",
      "22/22 [==============================] - 0s 10ms/step - loss: 0.6402 - accuracy: 0.6416 - val_loss: 0.8494 - val_accuracy: 0.5748\n",
      "Epoch 143/150\n",
      "22/22 [==============================] - 0s 10ms/step - loss: 0.6372 - accuracy: 0.6471 - val_loss: 0.8628 - val_accuracy: 0.5682\n",
      "Epoch 144/150\n",
      "22/22 [==============================] - 0s 10ms/step - loss: 0.6341 - accuracy: 0.6467 - val_loss: 0.8674 - val_accuracy: 0.5630\n",
      "Epoch 145/150\n",
      "22/22 [==============================] - 0s 10ms/step - loss: 0.6308 - accuracy: 0.6449 - val_loss: 0.8493 - val_accuracy: 0.5748\n",
      "Epoch 146/150\n",
      "22/22 [==============================] - 0s 10ms/step - loss: 0.6279 - accuracy: 0.6504 - val_loss: 0.8539 - val_accuracy: 0.5726\n",
      "Epoch 147/150\n",
      "22/22 [==============================] - 0s 10ms/step - loss: 0.6254 - accuracy: 0.6493 - val_loss: 0.8627 - val_accuracy: 0.5696\n",
      "Epoch 148/150\n",
      "22/22 [==============================] - 0s 10ms/step - loss: 0.6221 - accuracy: 0.6510 - val_loss: 0.8566 - val_accuracy: 0.5711\n",
      "Epoch 149/150\n",
      "22/22 [==============================] - 0s 10ms/step - loss: 0.6192 - accuracy: 0.6515 - val_loss: 0.8488 - val_accuracy: 0.5762\n",
      "Epoch 150/150\n",
      "22/22 [==============================] - 0s 10ms/step - loss: 0.6165 - accuracy: 0.6555 - val_loss: 0.8555 - val_accuracy: 0.5733\n"
     ]
    }
   ],
   "source": [
    "weights = {0: 5.56065, 1: 0.53828, 2: 1.03904}\n",
    "baseline_model_val = baseline_model.fit(X_train_tokens,\n",
    "                                        y_train_lb,\n",
    "                                        class_weight=weights,\n",
    "                                        epochs=150,\n",
    "                                        batch_size=256,\n",
    "                                        validation_data=(X_val_tokens, y_val_lb))"
   ]
  },
  {
   "cell_type": "code",
   "execution_count": 55,
   "metadata": {},
   "outputs": [
    {
     "name": "stdout",
     "output_type": "stream",
     "text": [
      "171/171 [==============================] - 1s 6ms/step - loss: 0.7389 - accuracy: 0.6559\n",
      "-------------\n",
      "Training Loss: 0.739 \n",
      "Training Accuracy: 0.656\n"
     ]
    }
   ],
   "source": [
    "results_train = baseline_model.evaluate(X_train_tokens, y_train_lb)\n",
    "print('-------------')\n",
    "print(f'Training Loss: {results_train[0]:.3} \\nTraining Accuracy: {results_train[1]:.3}')"
   ]
  },
  {
   "cell_type": "code",
   "execution_count": 56,
   "metadata": {},
   "outputs": [
    {
     "name": "stdout",
     "output_type": "stream",
     "text": [
      "72/72 [==============================] - 0s 6ms/step - loss: 0.8607 - accuracy: 0.5631\n",
      "-------------\n",
      "Test Loss: 0.861 \n",
      "Test Accuracy: 0.563\n"
     ]
    }
   ],
   "source": [
    "results_test = baseline_model.evaluate(X_test_tokens, y_test_lb)\n",
    "print('-------------')\n",
    "print(f'Test Loss: {results_test[0]:.3} \\nTest Accuracy: {results_test[1]:.3}')"
   ]
  },
  {
   "cell_type": "code",
   "execution_count": 57,
   "metadata": {},
   "outputs": [
    {
     "data": {
      "image/png": "[encoded data removed]",
      "text/plain": [
       "<Figure size 864x576 with 1 Axes>"
      ]
     },
     "metadata": {
      "needs_background": "light"
     },
     "output_type": "display_data"
    }
   ],
   "source": [
    "fig, ax = plt.subplots(figsize=(12, 8))\n",
    "baseline_model_val_dict = baseline_model_val.history\n",
    "loss_values = baseline_model_val_dict['loss']\n",
    "val_loss_values = baseline_model_val_dict['val_loss']\n",
    "epochs = range(1, len(loss_values)+1)\n",
    "ax.plot(epochs, loss_values, label='Training Loss')\n",
    "ax.plot(epochs, val_loss_values, label='Validation Loss')\n",
    "ax.set_title('Training and Validation Loss')\n",
    "ax.set_xlabel('Epochs')\n",
    "ax.set_ylabel('Loss')\n",
    "ax.legend();"
   ]
  },
  {
   "cell_type": "code",
   "execution_count": 58,
   "metadata": {},
   "outputs": [
    {
     "data": {
      "image/png": "[encoded data removed]",
      "text/plain": [
       "<Figure size 864x576 with 1 Axes>"
      ]
     },
     "metadata": {
      "needs_background": "light"
     },
     "output_type": "display_data"
    }
   ],
   "source": [
    "fig, ax = plt.subplots(figsize=(12, 8))\n",
    "acc_values = baseline_model_val_dict['accuracy']\n",
    "val_acc_values = baseline_model_val_dict['val_accuracy']\n",
    "ax.plot(epochs, acc_values, label='Training Accuracy')\n",
    "ax.plot(epochs, val_acc_values, label='Validation Accuracy')\n",
    "ax.set_title('Training and Validation Accuracy')\n",
    "ax.set_xlabel('Epochs')\n",
    "ax.set_ylabel('Accuracy')\n",
    "ax.legend();"
   ]
  },
  {
   "cell_type": "markdown",
   "metadata": {},
   "source": [
    "There is an interesting pattern here. Although the training sccuracy keeps increasing when going through more epochs, and the training loss kepps decreasing, the validation accuracy and loss don't necessarily do teh same. After a certain point, validation accuracy keeps swinging, which means that the model is probably overfit."
   ]
  },
  {
   "cell_type": "code",
   "execution_count": 59,
   "metadata": {},
   "outputs": [],
   "source": [
    "random.seed(123)\n",
    "model_2 = models.Sequential()\n",
    "model_2.add(layers.Dense(50, activation='relu', input_shape=(2000,)))\n",
    "model_2.add(layers.Dense(25, activation='relu'))\n",
    "model_2.add(layers.Dense(3, activation='softmax'))\n",
    "\n",
    "model_2.compile(optimizer='SGD', loss='categorical_crossentropy', metrics=['accuracy'])"
   ]
  },
  {
   "cell_type": "code",
   "execution_count": 66,
   "metadata": {},
   "outputs": [],
   "source": [
    "# patience: Number of epochs with no improvement after which training will be stopped.\n",
    "from keras.callbacks import EarlyStopping, ModelCheckpoint\n",
    "early_stopping = [EarlyStopping(monitor='val_loss', patience=12),\n",
    "                  ModelCheckpoint(filepath='best_model.h5',\n",
    "                                  monitor='val_loss',\n",
    "                                  save_best_only=True)]"
   ]
  },
  {
   "cell_type": "code",
   "execution_count": 67,
   "metadata": {},
   "outputs": [
    {
     "name": "stdout",
     "output_type": "stream",
     "text": [
      "Epoch 1/150\n",
      "22/22 [==============================] - 0s 13ms/step - loss: 0.5838 - accuracy: 0.6627 - val_loss: 0.8456 - val_accuracy: 0.5792\n",
      "Epoch 2/150\n",
      "22/22 [==============================] - 0s 11ms/step - loss: 0.5811 - accuracy: 0.6645 - val_loss: 0.8425 - val_accuracy: 0.5762\n",
      "Epoch 3/150\n",
      "22/22 [==============================] - 0s 10ms/step - loss: 0.5786 - accuracy: 0.6658 - val_loss: 0.8477 - val_accuracy: 0.5777\n",
      "Epoch 4/150\n",
      "22/22 [==============================] - 0s 10ms/step - loss: 0.5758 - accuracy: 0.6662 - val_loss: 0.8464 - val_accuracy: 0.5814\n",
      "Epoch 5/150\n",
      "22/22 [==============================] - 0s 10ms/step - loss: 0.5733 - accuracy: 0.6643 - val_loss: 0.8455 - val_accuracy: 0.5777\n",
      "Epoch 6/150\n",
      "22/22 [==============================] - 0s 11ms/step - loss: 0.5705 - accuracy: 0.6693 - val_loss: 0.8474 - val_accuracy: 0.5821\n",
      "Epoch 7/150\n",
      "22/22 [==============================] - 0s 10ms/step - loss: 0.5677 - accuracy: 0.6691 - val_loss: 0.8435 - val_accuracy: 0.5828\n",
      "Epoch 8/150\n",
      "22/22 [==============================] - 0s 10ms/step - loss: 0.5653 - accuracy: 0.6673 - val_loss: 0.8398 - val_accuracy: 0.5880\n",
      "Epoch 9/150\n",
      "22/22 [==============================] - 0s 10ms/step - loss: 0.5629 - accuracy: 0.6713 - val_loss: 0.8428 - val_accuracy: 0.5850\n",
      "Epoch 10/150\n",
      "22/22 [==============================] - 0s 10ms/step - loss: 0.5601 - accuracy: 0.6693 - val_loss: 0.8396 - val_accuracy: 0.5865\n",
      "Epoch 11/150\n",
      "22/22 [==============================] - 0s 10ms/step - loss: 0.5579 - accuracy: 0.6700 - val_loss: 0.8398 - val_accuracy: 0.5909\n",
      "Epoch 12/150\n",
      "22/22 [==============================] - 0s 10ms/step - loss: 0.5555 - accuracy: 0.6687 - val_loss: 0.8392 - val_accuracy: 0.5887\n",
      "Epoch 13/150\n",
      "22/22 [==============================] - 0s 10ms/step - loss: 0.5528 - accuracy: 0.6755 - val_loss: 0.8388 - val_accuracy: 0.5894\n",
      "Epoch 14/150\n",
      "22/22 [==============================] - 0s 10ms/step - loss: 0.5502 - accuracy: 0.6763 - val_loss: 0.8340 - val_accuracy: 0.5916\n",
      "Epoch 15/150\n",
      "22/22 [==============================] - 0s 10ms/step - loss: 0.5481 - accuracy: 0.6786 - val_loss: 0.8273 - val_accuracy: 0.5894\n",
      "Epoch 16/150\n",
      "22/22 [==============================] - 0s 10ms/step - loss: 0.5458 - accuracy: 0.6792 - val_loss: 0.8363 - val_accuracy: 0.5931\n",
      "Epoch 17/150\n",
      "22/22 [==============================] - 0s 10ms/step - loss: 0.5432 - accuracy: 0.6812 - val_loss: 0.8292 - val_accuracy: 0.5924\n",
      "Epoch 18/150\n",
      "22/22 [==============================] - 0s 10ms/step - loss: 0.5410 - accuracy: 0.6805 - val_loss: 0.8328 - val_accuracy: 0.5931\n",
      "Epoch 19/150\n",
      "22/22 [==============================] - 0s 10ms/step - loss: 0.5391 - accuracy: 0.6841 - val_loss: 0.8311 - val_accuracy: 0.5946\n",
      "Epoch 20/150\n",
      "22/22 [==============================] - 0s 10ms/step - loss: 0.5366 - accuracy: 0.6854 - val_loss: 0.8318 - val_accuracy: 0.5938\n",
      "Epoch 21/150\n",
      "22/22 [==============================] - 0s 10ms/step - loss: 0.5338 - accuracy: 0.6851 - val_loss: 0.8345 - val_accuracy: 0.5938\n",
      "Epoch 22/150\n",
      "22/22 [==============================] - 0s 10ms/step - loss: 0.5317 - accuracy: 0.6847 - val_loss: 0.8289 - val_accuracy: 0.5946\n",
      "Epoch 23/150\n",
      "22/22 [==============================] - 0s 10ms/step - loss: 0.5296 - accuracy: 0.6896 - val_loss: 0.8406 - val_accuracy: 0.5916\n",
      "Epoch 24/150\n",
      "22/22 [==============================] - 0s 10ms/step - loss: 0.5277 - accuracy: 0.6865 - val_loss: 0.8342 - val_accuracy: 0.5938\n",
      "Epoch 25/150\n",
      "22/22 [==============================] - 0s 10ms/step - loss: 0.5251 - accuracy: 0.6887 - val_loss: 0.8285 - val_accuracy: 0.5946\n",
      "Epoch 26/150\n",
      "22/22 [==============================] - 0s 11ms/step - loss: 0.5229 - accuracy: 0.6911 - val_loss: 0.8276 - val_accuracy: 0.5953\n",
      "Epoch 27/150\n",
      "22/22 [==============================] - 0s 10ms/step - loss: 0.5207 - accuracy: 0.6944 - val_loss: 0.8274 - val_accuracy: 0.5968\n"
     ]
    }
   ],
   "source": [
    "model_2_val = model_2.fit(X_train_tokens,\n",
    "                          y_train_lb,\n",
    "                          class_weight=weights,\n",
    "                          epochs=150,\n",
    "                          callbacks=early_stopping,              \n",
    "                          batch_size=256,\n",
    "                          validation_data=(X_val_tokens, y_val_lb))"
   ]
  },
  {
   "cell_type": "code",
   "execution_count": 68,
   "metadata": {},
   "outputs": [],
   "source": [
    "from keras.models import load_model\n",
    "saved_model = load_model('best_model.h5')"
   ]
  },
  {
   "cell_type": "code",
   "execution_count": 69,
   "metadata": {},
   "outputs": [
    {
     "name": "stdout",
     "output_type": "stream",
     "text": [
      " 26/171 [===>..........................] - ETA: 0s - loss: 0.6863 - accuracy: 0.6875"
     ]
    },
    {
     "name": "stderr",
     "output_type": "stream",
     "text": [
      "2023-02-28 14:01:41.640243: I tensorflow/core/grappler/optimizers/custom_graph_optimizer_registry.cc:113] Plugin optimizer for device_type GPU is enabled.\n"
     ]
    },
    {
     "name": "stdout",
     "output_type": "stream",
     "text": [
      "171/171 [==============================] - 1s 6ms/step - loss: 0.6698 - accuracy: 0.6854\n",
      "Training Loss: 0.67 \n",
      "Training Accuracy: 0.685\n",
      "-------------\n",
      "72/72 [==============================] - 0s 6ms/step - loss: 0.8258 - accuracy: 0.5834\n",
      "Test Loss: 0.826 \n",
      "Test Accuracy: 0.583\n"
     ]
    }
   ],
   "source": [
    "results_train = saved_model.evaluate(X_train_tokens, y_train_lb)\n",
    "print(f'Training Loss: {results_train[0]:.3} \\nTraining Accuracy: {results_train[1]:.3}')\n",
    "print('-------------')\n",
    "results_test = saved_model.evaluate(X_test_tokens, y_test_lb)\n",
    "print(f'Test Loss: {results_test[0]:.3} \\nTest Accuracy: {results_test[1]:.3}')"
   ]
  },
  {
   "cell_type": "code",
   "execution_count": null,
   "metadata": {},
   "outputs": [],
   "source": []
  }
 ],
 "metadata": {
  "kernelspec": {
   "display_name": "Python 3.9 (tensorflow)",
   "language": "python",
   "name": "tensorflow"
  },
  "language_info": {
   "codemirror_mode": {
    "name": "ipython",
    "version": 3
   },
   "file_extension": ".py",
   "mimetype": "text/x-python",
   "name": "python",
   "nbconvert_exporter": "python",
   "pygments_lexer": "ipython3",
   "version": "3.9.13"
  }
 },
 "nbformat": 4,
 "nbformat_minor": 4
}
