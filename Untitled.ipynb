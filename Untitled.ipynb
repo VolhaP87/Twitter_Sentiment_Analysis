{
 "cells": [
  {
   "cell_type": "code",
   "execution_count": null,
   "metadata": {
    "collapsed": true
   },
   "outputs": [],
   "source": [
    "build an NLP model to analyze Twitter sentiment about Apple and Google products. The dataset comes from CrowdFlower via data.world Links. Human raters rated the sentiment in over 9,000 Tweets as positive, negative, or neither.\n",
    "\n",
    "Your task is to:\n",
    "\n",
    "Build a model that can rate the sentiment of a Tweet based on its content.\n",
    "\n",
    "Aim for a Proof of Concept\n",
    "There are many approaches to NLP problems - start with something simple and iterate from there. For example, you could start by limiting your analysis to positive and negative Tweets only, allowing you to build a binary classifier. Then you could add in the neutral Tweets to build out a multiclass classifier. You may also consider using some of the more advanced NLP methods in the Mod 4 Appendix.\n",
    "\n",
    "Evaluation\n",
    "Evaluating multiclass classifiers can be trickier than binary classifiers because there are multiple ways to mis-classify an observation, and some errors are more problematic than others. Use the business problem that your NLP project sets out to solve to inform your choice of evaluation metrics.\n",
    "\n"
   ]
  },
  {
   "cell_type": "code",
   "execution_count": 1,
   "metadata": {},
   "outputs": [
    {
     "data": {
      "text/html": [
       "<div>\n",
       "<style scoped>\n",
       "    .dataframe tbody tr th:only-of-type {\n",
       "        vertical-align: middle;\n",
       "    }\n",
       "\n",
       "    .dataframe tbody tr th {\n",
       "        vertical-align: top;\n",
       "    }\n",
       "\n",
       "    .dataframe thead th {\n",
       "        text-align: right;\n",
       "    }\n",
       "</style>\n",
       "<table border=\"1\" class=\"dataframe\">\n",
       "  <thead>\n",
       "    <tr style=\"text-align: right;\">\n",
       "      <th></th>\n",
       "      <th>tweet_text</th>\n",
       "      <th>emotion_in_tweet_is_directed_at</th>\n",
       "      <th>is_there_an_emotion_directed_at_a_brand_or_product</th>\n",
       "    </tr>\n",
       "  </thead>\n",
       "  <tbody>\n",
       "    <tr>\n",
       "      <th>0</th>\n",
       "      <td>.@wesley83 I have a 3G iPhone. After 3 hrs twe...</td>\n",
       "      <td>iPhone</td>\n",
       "      <td>Negative emotion</td>\n",
       "    </tr>\n",
       "    <tr>\n",
       "      <th>1</th>\n",
       "      <td>@jessedee Know about @fludapp ? Awesome iPad/i...</td>\n",
       "      <td>iPad or iPhone App</td>\n",
       "      <td>Positive emotion</td>\n",
       "    </tr>\n",
       "    <tr>\n",
       "      <th>2</th>\n",
       "      <td>@swonderlin Can not wait for #iPad 2 also. The...</td>\n",
       "      <td>iPad</td>\n",
       "      <td>Positive emotion</td>\n",
       "    </tr>\n",
       "    <tr>\n",
       "      <th>3</th>\n",
       "      <td>@sxsw I hope this year's festival isn't as cra...</td>\n",
       "      <td>iPad or iPhone App</td>\n",
       "      <td>Negative emotion</td>\n",
       "    </tr>\n",
       "    <tr>\n",
       "      <th>4</th>\n",
       "      <td>@sxtxstate great stuff on Fri #SXSW: Marissa M...</td>\n",
       "      <td>Google</td>\n",
       "      <td>Positive emotion</td>\n",
       "    </tr>\n",
       "  </tbody>\n",
       "</table>\n",
       "</div>"
      ],
      "text/plain": [
       "                                          tweet_text  \\\n",
       "0  .@wesley83 I have a 3G iPhone. After 3 hrs twe...   \n",
       "1  @jessedee Know about @fludapp ? Awesome iPad/i...   \n",
       "2  @swonderlin Can not wait for #iPad 2 also. The...   \n",
       "3  @sxsw I hope this year's festival isn't as cra...   \n",
       "4  @sxtxstate great stuff on Fri #SXSW: Marissa M...   \n",
       "\n",
       "  emotion_in_tweet_is_directed_at  \\\n",
       "0                          iPhone   \n",
       "1              iPad or iPhone App   \n",
       "2                            iPad   \n",
       "3              iPad or iPhone App   \n",
       "4                          Google   \n",
       "\n",
       "  is_there_an_emotion_directed_at_a_brand_or_product  \n",
       "0                                   Negative emotion  \n",
       "1                                   Positive emotion  \n",
       "2                                   Positive emotion  \n",
       "3                                   Negative emotion  \n",
       "4                                   Positive emotion  "
      ]
     },
     "execution_count": 1,
     "metadata": {},
     "output_type": "execute_result"
    }
   ],
   "source": [
    "import pandas as pd\n",
    "df = pd.read_csv('Data/tweet_product_company.csv', encoding = 'unicode_escape')\n",
    "df.head()"
   ]
  },
  {
   "cell_type": "code",
   "execution_count": 2,
   "metadata": {},
   "outputs": [
    {
     "name": "stdout",
     "output_type": "stream",
     "text": [
      "<class 'pandas.core.frame.DataFrame'>\n",
      "RangeIndex: 9093 entries, 0 to 9092\n",
      "Data columns (total 3 columns):\n",
      " #   Column                                              Non-Null Count  Dtype \n",
      "---  ------                                              --------------  ----- \n",
      " 0   tweet_text                                          9092 non-null   object\n",
      " 1   emotion_in_tweet_is_directed_at                     3291 non-null   object\n",
      " 2   is_there_an_emotion_directed_at_a_brand_or_product  9093 non-null   object\n",
      "dtypes: object(3)\n",
      "memory usage: 213.2+ KB\n"
     ]
    }
   ],
   "source": [
    "df.info()"
   ]
  },
  {
   "cell_type": "code",
   "execution_count": 3,
   "metadata": {},
   "outputs": [
    {
     "data": {
      "text/plain": [
       "No emotion toward brand or product    5389\n",
       "Positive emotion                      2978\n",
       "Negative emotion                       570\n",
       "I can't tell                           156\n",
       "Name: is_there_an_emotion_directed_at_a_brand_or_product, dtype: int64"
      ]
     },
     "execution_count": 3,
     "metadata": {},
     "output_type": "execute_result"
    }
   ],
   "source": [
    "df['is_there_an_emotion_directed_at_a_brand_or_product'].value_counts()"
   ]
  },
  {
   "cell_type": "code",
   "execution_count": 4,
   "metadata": {},
   "outputs": [
    {
     "data": {
      "text/html": [
       "<div>\n",
       "<style scoped>\n",
       "    .dataframe tbody tr th:only-of-type {\n",
       "        vertical-align: middle;\n",
       "    }\n",
       "\n",
       "    .dataframe tbody tr th {\n",
       "        vertical-align: top;\n",
       "    }\n",
       "\n",
       "    .dataframe thead th {\n",
       "        text-align: right;\n",
       "    }\n",
       "</style>\n",
       "<table border=\"1\" class=\"dataframe\">\n",
       "  <thead>\n",
       "    <tr style=\"text-align: right;\">\n",
       "      <th></th>\n",
       "      <th>text</th>\n",
       "      <th>category</th>\n",
       "    </tr>\n",
       "  </thead>\n",
       "  <tbody>\n",
       "    <tr>\n",
       "      <th>0</th>\n",
       "      <td>.@wesley83 I have a 3G iPhone. After 3 hrs twe...</td>\n",
       "      <td>Negative emotion</td>\n",
       "    </tr>\n",
       "    <tr>\n",
       "      <th>1</th>\n",
       "      <td>@jessedee Know about @fludapp ? Awesome iPad/i...</td>\n",
       "      <td>Positive emotion</td>\n",
       "    </tr>\n",
       "    <tr>\n",
       "      <th>2</th>\n",
       "      <td>@swonderlin Can not wait for #iPad 2 also. The...</td>\n",
       "      <td>Positive emotion</td>\n",
       "    </tr>\n",
       "    <tr>\n",
       "      <th>3</th>\n",
       "      <td>@sxsw I hope this year's festival isn't as cra...</td>\n",
       "      <td>Negative emotion</td>\n",
       "    </tr>\n",
       "    <tr>\n",
       "      <th>4</th>\n",
       "      <td>@sxtxstate great stuff on Fri #SXSW: Marissa M...</td>\n",
       "      <td>Positive emotion</td>\n",
       "    </tr>\n",
       "  </tbody>\n",
       "</table>\n",
       "</div>"
      ],
      "text/plain": [
       "                                                text          category\n",
       "0  .@wesley83 I have a 3G iPhone. After 3 hrs twe...  Negative emotion\n",
       "1  @jessedee Know about @fludapp ? Awesome iPad/i...  Positive emotion\n",
       "2  @swonderlin Can not wait for #iPad 2 also. The...  Positive emotion\n",
       "3  @sxsw I hope this year's festival isn't as cra...  Negative emotion\n",
       "4  @sxtxstate great stuff on Fri #SXSW: Marissa M...  Positive emotion"
      ]
     },
     "execution_count": 4,
     "metadata": {},
     "output_type": "execute_result"
    }
   ],
   "source": [
    "data = df[['tweet_text', 'is_there_an_emotion_directed_at_a_brand_or_product']]\n",
    "data = data.rename(columns = {'tweet_text' : 'text', 'is_there_an_emotion_directed_at_a_brand_or_product' : 'category'})\n",
    "data.head()"
   ]
  },
  {
   "cell_type": "code",
   "execution_count": 5,
   "metadata": {},
   "outputs": [
    {
     "data": {
      "text/plain": [
       "No emotion toward brand or product    5389\n",
       "Positive emotion                      2978\n",
       "Negative emotion                       570\n",
       "I cant tell                            156\n",
       "Name: category, dtype: int64"
      ]
     },
     "execution_count": 5,
     "metadata": {},
     "output_type": "execute_result"
    }
   ],
   "source": [
    "data['category'] = data['category'].replace(\"[',]\", \"\", regex=True)\n",
    "data['category'].value_counts()"
   ]
  },
  {
   "cell_type": "code",
   "execution_count": 6,
   "metadata": {},
   "outputs": [
    {
     "data": {
      "text/plain": [
       "Neutral emotion     5545\n",
       "Positive emotion    2978\n",
       "Negative emotion     570\n",
       "Name: category, dtype: int64"
      ]
     },
     "execution_count": 6,
     "metadata": {},
     "output_type": "execute_result"
    }
   ],
   "source": [
    "data['category'].replace('No emotion toward brand or product', 'Neutral emotion', inplace=True)\n",
    "data['category'].replace('I cant tell', 'Neutral emotion', inplace=True)\n",
    "data['category'].value_counts()"
   ]
  },
  {
   "cell_type": "code",
   "execution_count": 7,
   "metadata": {},
   "outputs": [
    {
     "name": "stdout",
     "output_type": "stream",
     "text": [
      "Raw Counts:\n",
      "Neutral emotion     5545\n",
      "Positive emotion    2978\n",
      "Negative emotion     570\n",
      "Name: category, dtype: int64\n",
      "\n",
      "Percentages:\n",
      "Neutral emotion     0.609810\n",
      "Positive emotion    0.327505\n",
      "Negative emotion    0.062686\n",
      "Name: category, dtype: float64\n"
     ]
    }
   ],
   "source": [
    "# Check for class imbalance\n",
    "print(\"Raw Counts:\")\n",
    "print(data['category'].value_counts())\n",
    "print()\n",
    "print('Percentages:')\n",
    "print(data['category'].value_counts(normalize=True))"
   ]
  },
  {
   "cell_type": "code",
   "execution_count": 8,
   "metadata": {},
   "outputs": [
    {
     "data": {
      "image/png": "[encoded data removed]",
      "text/plain": [
       "<Figure size 432x288 with 1 Axes>"
      ]
     },
     "metadata": {
      "needs_background": "light"
     },
     "output_type": "display_data"
    }
   ],
   "source": [
    "# Plot the distribution of values in column 'stroke'\n",
    "import seaborn as sns\n",
    "import matplotlib.pyplot as plt\n",
    "%matplotlib inline\n",
    "import warnings\n",
    "warnings.filterwarnings('ignore')\n",
    "\n",
    "sns.countplot(data['category'])\n",
    "plt.title('Distribution of Twitter Sentiment')\n",
    "plt.savefig('distribution_sentiment');"
   ]
  },
  {
   "cell_type": "code",
   "execution_count": 9,
   "metadata": {},
   "outputs": [
    {
     "name": "stdout",
     "output_type": "stream",
     "text": [
      "<class 'pandas.core.frame.DataFrame'>\n",
      "RangeIndex: 9093 entries, 0 to 9092\n",
      "Data columns (total 2 columns):\n",
      " #   Column    Non-Null Count  Dtype \n",
      "---  ------    --------------  ----- \n",
      " 0   text      9092 non-null   object\n",
      " 1   category  9093 non-null   object\n",
      "dtypes: object(2)\n",
      "memory usage: 142.2+ KB\n"
     ]
    }
   ],
   "source": [
    "data.info()"
   ]
  },
  {
   "cell_type": "code",
   "execution_count": 10,
   "metadata": {},
   "outputs": [
    {
     "name": "stdout",
     "output_type": "stream",
     "text": [
      "<class 'pandas.core.frame.DataFrame'>\n",
      "Int64Index: 9092 entries, 0 to 9092\n",
      "Data columns (total 2 columns):\n",
      " #   Column    Non-Null Count  Dtype \n",
      "---  ------    --------------  ----- \n",
      " 0   text      9092 non-null   object\n",
      " 1   category  9092 non-null   object\n",
      "dtypes: object(2)\n",
      "memory usage: 213.1+ KB\n"
     ]
    }
   ],
   "source": [
    "data.dropna(inplace=True)\n",
    "data.info()"
   ]
  },
  {
   "cell_type": "code",
   "execution_count": 11,
   "metadata": {},
   "outputs": [
    {
     "data": {
      "text/html": [
       "<div>\n",
       "<style scoped>\n",
       "    .dataframe tbody tr th:only-of-type {\n",
       "        vertical-align: middle;\n",
       "    }\n",
       "\n",
       "    .dataframe tbody tr th {\n",
       "        vertical-align: top;\n",
       "    }\n",
       "\n",
       "    .dataframe thead th {\n",
       "        text-align: right;\n",
       "    }\n",
       "</style>\n",
       "<table border=\"1\" class=\"dataframe\">\n",
       "  <thead>\n",
       "    <tr style=\"text-align: right;\">\n",
       "      <th></th>\n",
       "      <th>text</th>\n",
       "      <th>category</th>\n",
       "      <th>label</th>\n",
       "    </tr>\n",
       "  </thead>\n",
       "  <tbody>\n",
       "    <tr>\n",
       "      <th>0</th>\n",
       "      <td>.@wesley83 I have a 3G iPhone. After 3 hrs twe...</td>\n",
       "      <td>Negative emotion</td>\n",
       "      <td>2</td>\n",
       "    </tr>\n",
       "    <tr>\n",
       "      <th>1</th>\n",
       "      <td>@jessedee Know about @fludapp ? Awesome iPad/i...</td>\n",
       "      <td>Positive emotion</td>\n",
       "      <td>1</td>\n",
       "    </tr>\n",
       "    <tr>\n",
       "      <th>2</th>\n",
       "      <td>@swonderlin Can not wait for #iPad 2 also. The...</td>\n",
       "      <td>Positive emotion</td>\n",
       "      <td>1</td>\n",
       "    </tr>\n",
       "    <tr>\n",
       "      <th>3</th>\n",
       "      <td>@sxsw I hope this year's festival isn't as cra...</td>\n",
       "      <td>Negative emotion</td>\n",
       "      <td>2</td>\n",
       "    </tr>\n",
       "    <tr>\n",
       "      <th>4</th>\n",
       "      <td>@sxtxstate great stuff on Fri #SXSW: Marissa M...</td>\n",
       "      <td>Positive emotion</td>\n",
       "      <td>1</td>\n",
       "    </tr>\n",
       "  </tbody>\n",
       "</table>\n",
       "</div>"
      ],
      "text/plain": [
       "                                                text          category  label\n",
       "0  .@wesley83 I have a 3G iPhone. After 3 hrs twe...  Negative emotion      2\n",
       "1  @jessedee Know about @fludapp ? Awesome iPad/i...  Positive emotion      1\n",
       "2  @swonderlin Can not wait for #iPad 2 also. The...  Positive emotion      1\n",
       "3  @sxsw I hope this year's festival isn't as cra...  Negative emotion      2\n",
       "4  @sxtxstate great stuff on Fri #SXSW: Marissa M...  Positive emotion      1"
      ]
     },
     "execution_count": 11,
     "metadata": {},
     "output_type": "execute_result"
    }
   ],
   "source": [
    "label = {\n",
    "    'Neutral emotion' : 0,\n",
    "    'Positive emotion' : 1,\n",
    "    'Negative emotion' : 2\n",
    "}\n",
    "label_data = data['category'].map(label)\n",
    "\n",
    "new_df = data.copy()\n",
    "new_df['label'] = label_data\n",
    "new_df.head()"
   ]
  },
  {
   "cell_type": "code",
   "execution_count": 12,
   "metadata": {},
   "outputs": [
    {
     "name": "stdout",
     "output_type": "stream",
     "text": [
      "<class 'pandas.core.frame.DataFrame'>\n",
      "Int64Index: 9092 entries, 0 to 9092\n",
      "Data columns (total 3 columns):\n",
      " #   Column    Non-Null Count  Dtype \n",
      "---  ------    --------------  ----- \n",
      " 0   text      9092 non-null   object\n",
      " 1   category  9092 non-null   object\n",
      " 2   label     9092 non-null   int64 \n",
      "dtypes: int64(1), object(2)\n",
      "memory usage: 284.1+ KB\n"
     ]
    }
   ],
   "source": [
    "new_df.info()"
   ]
  },
  {
   "cell_type": "code",
   "execution_count": 13,
   "metadata": {},
   "outputs": [],
   "source": [
    "X = new_df[['text', 'category']]\n",
    "y = new_df['label']"
   ]
  },
  {
   "cell_type": "code",
   "execution_count": 14,
   "metadata": {},
   "outputs": [
    {
     "name": "stdout",
     "output_type": "stream",
     "text": [
      "0    4185\n",
      "1    2215\n",
      "2     419\n",
      "Name: label, dtype: int64 \n",
      "\n",
      " 0    1359\n",
      "1     763\n",
      "2     151\n",
      "Name: label, dtype: int64\n"
     ]
    }
   ],
   "source": [
    "from sklearn.model_selection import train_test_split\n",
    "X_train, X_test, y_train, y_test = train_test_split(X, y, random_state=42, test_size=0.25)\n",
    "print(y_train.value_counts(),'\\n\\n', y_test.value_counts())"
   ]
  },
  {
   "cell_type": "code",
   "execution_count": 15,
   "metadata": {},
   "outputs": [
    {
     "data": {
      "text/html": [
       "<div>\n",
       "<style scoped>\n",
       "    .dataframe tbody tr th:only-of-type {\n",
       "        vertical-align: middle;\n",
       "    }\n",
       "\n",
       "    .dataframe tbody tr th {\n",
       "        vertical-align: top;\n",
       "    }\n",
       "\n",
       "    .dataframe thead th {\n",
       "        text-align: right;\n",
       "    }\n",
       "</style>\n",
       "<table border=\"1\" class=\"dataframe\">\n",
       "  <thead>\n",
       "    <tr style=\"text-align: right;\">\n",
       "      <th></th>\n",
       "      <th>text</th>\n",
       "      <th>category</th>\n",
       "    </tr>\n",
       "  </thead>\n",
       "  <tbody>\n",
       "    <tr>\n",
       "      <th>8605</th>\n",
       "      <td>Perfect attention to detail RT @mention Google...</td>\n",
       "      <td>Negative emotion</td>\n",
       "    </tr>\n",
       "    <tr>\n",
       "      <th>1303</th>\n",
       "      <td>my iphone was stolen and I got it back !!!!!! ...</td>\n",
       "      <td>Neutral emotion</td>\n",
       "    </tr>\n",
       "    <tr>\n",
       "      <th>8759</th>\n",
       "      <td>fuck I love Austin. Just left the Youtube Goog...</td>\n",
       "      <td>Positive emotion</td>\n",
       "    </tr>\n",
       "    <tr>\n",
       "      <th>5021</th>\n",
       "      <td>Spotted something rare a few minutes ago...a p...</td>\n",
       "      <td>Neutral emotion</td>\n",
       "    </tr>\n",
       "    <tr>\n",
       "      <th>3210</th>\n",
       "      <td>@mention fyi  RT @mention I'll be at the Austi...</td>\n",
       "      <td>Neutral emotion</td>\n",
       "    </tr>\n",
       "  </tbody>\n",
       "</table>\n",
       "</div>"
      ],
      "text/plain": [
       "                                                   text          category\n",
       "8605  Perfect attention to detail RT @mention Google...  Negative emotion\n",
       "1303  my iphone was stolen and I got it back !!!!!! ...   Neutral emotion\n",
       "8759  fuck I love Austin. Just left the Youtube Goog...  Positive emotion\n",
       "5021  Spotted something rare a few minutes ago...a p...   Neutral emotion\n",
       "3210  @mention fyi  RT @mention I'll be at the Austi...   Neutral emotion"
      ]
     },
     "execution_count": 15,
     "metadata": {},
     "output_type": "execute_result"
    }
   ],
   "source": [
    "X_train = pd.DataFrame(X_train, columns = ['text', 'category'])\n",
    "X_train.head()"
   ]
  },
  {
   "cell_type": "code",
   "execution_count": 16,
   "metadata": {},
   "outputs": [
    {
     "data": {
      "text/html": [
       "<div>\n",
       "<style scoped>\n",
       "    .dataframe tbody tr th:only-of-type {\n",
       "        vertical-align: middle;\n",
       "    }\n",
       "\n",
       "    .dataframe tbody tr th {\n",
       "        vertical-align: top;\n",
       "    }\n",
       "\n",
       "    .dataframe thead th {\n",
       "        text-align: right;\n",
       "    }\n",
       "</style>\n",
       "<table border=\"1\" class=\"dataframe\">\n",
       "  <thead>\n",
       "    <tr style=\"text-align: right;\">\n",
       "      <th></th>\n",
       "      <th>text</th>\n",
       "      <th>category</th>\n",
       "    </tr>\n",
       "  </thead>\n",
       "  <tbody>\n",
       "    <tr>\n",
       "      <th>8605</th>\n",
       "      <td>perfect attention to detail rt @mention google...</td>\n",
       "      <td>Negative emotion</td>\n",
       "    </tr>\n",
       "    <tr>\n",
       "      <th>1303</th>\n",
       "      <td>my iphone was stolen and i got it back !!!!!! ...</td>\n",
       "      <td>Neutral emotion</td>\n",
       "    </tr>\n",
       "    <tr>\n",
       "      <th>8759</th>\n",
       "      <td>fuck i love austin. just left the youtube goog...</td>\n",
       "      <td>Positive emotion</td>\n",
       "    </tr>\n",
       "    <tr>\n",
       "      <th>5021</th>\n",
       "      <td>spotted something rare a few minutes ago...a p...</td>\n",
       "      <td>Neutral emotion</td>\n",
       "    </tr>\n",
       "    <tr>\n",
       "      <th>3210</th>\n",
       "      <td>@mention fyi  rt @mention i'll be at the austi...</td>\n",
       "      <td>Neutral emotion</td>\n",
       "    </tr>\n",
       "  </tbody>\n",
       "</table>\n",
       "</div>"
      ],
      "text/plain": [
       "                                                   text          category\n",
       "8605  perfect attention to detail rt @mention google...  Negative emotion\n",
       "1303  my iphone was stolen and i got it back !!!!!! ...   Neutral emotion\n",
       "8759  fuck i love austin. just left the youtube goog...  Positive emotion\n",
       "5021  spotted something rare a few minutes ago...a p...   Neutral emotion\n",
       "3210  @mention fyi  rt @mention i'll be at the austi...   Neutral emotion"
      ]
     },
     "execution_count": 16,
     "metadata": {},
     "output_type": "execute_result"
    }
   ],
   "source": [
    "# Standardizing \n",
    "# Transform sample data to lowercase\n",
    "X_train['text'] = X_train['text'].str.lower()\n",
    "X_train.head()"
   ]
  },
  {
   "cell_type": "code",
   "execution_count": 17,
   "metadata": {},
   "outputs": [
    {
     "name": "stdout",
     "output_type": "stream",
     "text": [
      "<class 'pandas.core.frame.DataFrame'>\n",
      "Int64Index: 6819 entries, 8605 to 7271\n",
      "Data columns (total 2 columns):\n",
      " #   Column    Non-Null Count  Dtype \n",
      "---  ------    --------------  ----- \n",
      " 0   text      6819 non-null   object\n",
      " 1   category  6819 non-null   object\n",
      "dtypes: object(2)\n",
      "memory usage: 159.8+ KB\n"
     ]
    }
   ],
   "source": [
    "X_train.info()"
   ]
  },
  {
   "cell_type": "code",
   "execution_count": 18,
   "metadata": {},
   "outputs": [
    {
     "data": {
      "text/html": [
       "<div>\n",
       "<style scoped>\n",
       "    .dataframe tbody tr th:only-of-type {\n",
       "        vertical-align: middle;\n",
       "    }\n",
       "\n",
       "    .dataframe tbody tr th {\n",
       "        vertical-align: top;\n",
       "    }\n",
       "\n",
       "    .dataframe thead th {\n",
       "        text-align: right;\n",
       "    }\n",
       "</style>\n",
       "<table border=\"1\" class=\"dataframe\">\n",
       "  <thead>\n",
       "    <tr style=\"text-align: right;\">\n",
       "      <th></th>\n",
       "      <th>text</th>\n",
       "      <th>category</th>\n",
       "    </tr>\n",
       "  </thead>\n",
       "  <tbody>\n",
       "    <tr>\n",
       "      <th>8605</th>\n",
       "      <td>perfect attention to detail rt  google recreat...</td>\n",
       "      <td>Negative emotion</td>\n",
       "    </tr>\n",
       "    <tr>\n",
       "      <th>1303</th>\n",
       "      <td>my iphone was stolen and i got it back !!!!!!</td>\n",
       "      <td>Neutral emotion</td>\n",
       "    </tr>\n",
       "    <tr>\n",
       "      <th>8759</th>\n",
       "      <td>fuck i love austin. just left the youtube goog...</td>\n",
       "      <td>Positive emotion</td>\n",
       "    </tr>\n",
       "    <tr>\n",
       "      <th>5021</th>\n",
       "      <td>spotted something rare a few minutes ago...a p...</td>\n",
       "      <td>Neutral emotion</td>\n",
       "    </tr>\n",
       "    <tr>\n",
       "      <th>3210</th>\n",
       "      <td>fyi  rt  i'll be at the austin convention cen...</td>\n",
       "      <td>Neutral emotion</td>\n",
       "    </tr>\n",
       "  </tbody>\n",
       "</table>\n",
       "</div>"
      ],
      "text/plain": [
       "                                                   text          category\n",
       "8605  perfect attention to detail rt  google recreat...  Negative emotion\n",
       "1303     my iphone was stolen and i got it back !!!!!!    Neutral emotion\n",
       "8759  fuck i love austin. just left the youtube goog...  Positive emotion\n",
       "5021  spotted something rare a few minutes ago...a p...   Neutral emotion\n",
       "3210   fyi  rt  i'll be at the austin convention cen...   Neutral emotion"
      ]
     },
     "execution_count": 18,
     "metadata": {},
     "output_type": "execute_result"
    }
   ],
   "source": [
    "# Remove hashtags and @mention\n",
    "X_train['text'] = X_train['text'].str.replace('@[A-Za-z0-9_]+', '', regex=True)\n",
    "X_train['text'] = X_train['text'].str.replace('#[A-Za-z0-9_]+', '', regex=True)\n",
    "X_train.head()"
   ]
  },
  {
   "cell_type": "code",
   "execution_count": 19,
   "metadata": {},
   "outputs": [
    {
     "data": {
      "text/html": [
       "<div>\n",
       "<style scoped>\n",
       "    .dataframe tbody tr th:only-of-type {\n",
       "        vertical-align: middle;\n",
       "    }\n",
       "\n",
       "    .dataframe tbody tr th {\n",
       "        vertical-align: top;\n",
       "    }\n",
       "\n",
       "    .dataframe thead th {\n",
       "        text-align: right;\n",
       "    }\n",
       "</style>\n",
       "<table border=\"1\" class=\"dataframe\">\n",
       "  <thead>\n",
       "    <tr style=\"text-align: right;\">\n",
       "      <th></th>\n",
       "      <th>text</th>\n",
       "      <th>category</th>\n",
       "      <th>tokenized</th>\n",
       "    </tr>\n",
       "  </thead>\n",
       "  <tbody>\n",
       "    <tr>\n",
       "      <th>8605</th>\n",
       "      <td>perfect attention to detail rt  google recreat...</td>\n",
       "      <td>Negative emotion</td>\n",
       "      <td>[perfect, attention, to, detail, rt, google, r...</td>\n",
       "    </tr>\n",
       "    <tr>\n",
       "      <th>1303</th>\n",
       "      <td>my iphone was stolen and i got it back !!!!!!</td>\n",
       "      <td>Neutral emotion</td>\n",
       "      <td>[my, iphone, was, stolen, and, got, it, back]</td>\n",
       "    </tr>\n",
       "    <tr>\n",
       "      <th>8759</th>\n",
       "      <td>fuck i love austin. just left the youtube goog...</td>\n",
       "      <td>Positive emotion</td>\n",
       "      <td>[fuck, love, austin, just, left, the, youtube,...</td>\n",
       "    </tr>\n",
       "    <tr>\n",
       "      <th>5021</th>\n",
       "      <td>spotted something rare a few minutes ago...a p...</td>\n",
       "      <td>Neutral emotion</td>\n",
       "      <td>[spotted, something, rare, few, minutes, ago, ...</td>\n",
       "    </tr>\n",
       "    <tr>\n",
       "      <th>3210</th>\n",
       "      <td>fyi  rt  i'll be at the austin convention cen...</td>\n",
       "      <td>Neutral emotion</td>\n",
       "      <td>[fyi, rt, ll, be, at, the, austin, convention,...</td>\n",
       "    </tr>\n",
       "  </tbody>\n",
       "</table>\n",
       "</div>"
      ],
      "text/plain": [
       "                                                   text          category  \\\n",
       "8605  perfect attention to detail rt  google recreat...  Negative emotion   \n",
       "1303     my iphone was stolen and i got it back !!!!!!    Neutral emotion   \n",
       "8759  fuck i love austin. just left the youtube goog...  Positive emotion   \n",
       "5021  spotted something rare a few minutes ago...a p...   Neutral emotion   \n",
       "3210   fyi  rt  i'll be at the austin convention cen...   Neutral emotion   \n",
       "\n",
       "                                              tokenized  \n",
       "8605  [perfect, attention, to, detail, rt, google, r...  \n",
       "1303      [my, iphone, was, stolen, and, got, it, back]  \n",
       "8759  [fuck, love, austin, just, left, the, youtube,...  \n",
       "5021  [spotted, something, rare, few, minutes, ago, ...  \n",
       "3210  [fyi, rt, ll, be, at, the, austin, convention,...  "
      ]
     },
     "execution_count": 19,
     "metadata": {},
     "output_type": "execute_result"
    }
   ],
   "source": [
    "# Tokenization\n",
    "import nltk\n",
    "from nltk.tokenize import RegexpTokenizer\n",
    "\n",
    "basic_token_pattern = r\"(?u)\\b\\w\\w+\\b\"\n",
    "tokenizer = RegexpTokenizer(basic_token_pattern)\n",
    "X_train['tokenized'] = X_train['text'].apply(tokenizer.tokenize)\n",
    "X_train.head()"
   ]
  },
  {
   "cell_type": "code",
   "execution_count": 20,
   "metadata": {},
   "outputs": [],
   "source": [
    "# Remove stopwords\n",
    "from nltk.corpus import stopwords\n",
    "\n",
    "stopwords_list = stopwords.words('english')"
   ]
  },
  {
   "cell_type": "code",
   "execution_count": 21,
   "metadata": {},
   "outputs": [
    {
     "data": {
      "text/html": [
       "<div>\n",
       "<style scoped>\n",
       "    .dataframe tbody tr th:only-of-type {\n",
       "        vertical-align: middle;\n",
       "    }\n",
       "\n",
       "    .dataframe tbody tr th {\n",
       "        vertical-align: top;\n",
       "    }\n",
       "\n",
       "    .dataframe thead th {\n",
       "        text-align: right;\n",
       "    }\n",
       "</style>\n",
       "<table border=\"1\" class=\"dataframe\">\n",
       "  <thead>\n",
       "    <tr style=\"text-align: right;\">\n",
       "      <th></th>\n",
       "      <th>text</th>\n",
       "      <th>category</th>\n",
       "      <th>tokenized</th>\n",
       "      <th>no_stopwords</th>\n",
       "    </tr>\n",
       "  </thead>\n",
       "  <tbody>\n",
       "    <tr>\n",
       "      <th>8605</th>\n",
       "      <td>perfect attention to detail rt  google recreat...</td>\n",
       "      <td>Negative emotion</td>\n",
       "      <td>[perfect, attention, to, detail, rt, google, r...</td>\n",
       "      <td>[perfect, attention, detail, rt, google, recre...</td>\n",
       "    </tr>\n",
       "    <tr>\n",
       "      <th>1303</th>\n",
       "      <td>my iphone was stolen and i got it back !!!!!!</td>\n",
       "      <td>Neutral emotion</td>\n",
       "      <td>[my, iphone, was, stolen, and, got, it, back]</td>\n",
       "      <td>[iphone, stolen, got, back]</td>\n",
       "    </tr>\n",
       "    <tr>\n",
       "      <th>8759</th>\n",
       "      <td>fuck i love austin. just left the youtube goog...</td>\n",
       "      <td>Positive emotion</td>\n",
       "      <td>[fuck, love, austin, just, left, the, youtube,...</td>\n",
       "      <td>[fuck, love, austin, left, youtube, google, pa...</td>\n",
       "    </tr>\n",
       "    <tr>\n",
       "      <th>5021</th>\n",
       "      <td>spotted something rare a few minutes ago...a p...</td>\n",
       "      <td>Neutral emotion</td>\n",
       "      <td>[spotted, something, rare, few, minutes, ago, ...</td>\n",
       "      <td>[spotted, something, rare, minutes, ago, phone...</td>\n",
       "    </tr>\n",
       "    <tr>\n",
       "      <th>3210</th>\n",
       "      <td>fyi  rt  i'll be at the austin convention cen...</td>\n",
       "      <td>Neutral emotion</td>\n",
       "      <td>[fyi, rt, ll, be, at, the, austin, convention,...</td>\n",
       "      <td>[fyi, rt, austin, convention, center, today, f...</td>\n",
       "    </tr>\n",
       "  </tbody>\n",
       "</table>\n",
       "</div>"
      ],
      "text/plain": [
       "                                                   text          category  \\\n",
       "8605  perfect attention to detail rt  google recreat...  Negative emotion   \n",
       "1303     my iphone was stolen and i got it back !!!!!!    Neutral emotion   \n",
       "8759  fuck i love austin. just left the youtube goog...  Positive emotion   \n",
       "5021  spotted something rare a few minutes ago...a p...   Neutral emotion   \n",
       "3210   fyi  rt  i'll be at the austin convention cen...   Neutral emotion   \n",
       "\n",
       "                                              tokenized  \\\n",
       "8605  [perfect, attention, to, detail, rt, google, r...   \n",
       "1303      [my, iphone, was, stolen, and, got, it, back]   \n",
       "8759  [fuck, love, austin, just, left, the, youtube,...   \n",
       "5021  [spotted, something, rare, few, minutes, ago, ...   \n",
       "3210  [fyi, rt, ll, be, at, the, austin, convention,...   \n",
       "\n",
       "                                           no_stopwords  \n",
       "8605  [perfect, attention, detail, rt, google, recre...  \n",
       "1303                        [iphone, stolen, got, back]  \n",
       "8759  [fuck, love, austin, left, youtube, google, pa...  \n",
       "5021  [spotted, something, rare, minutes, ago, phone...  \n",
       "3210  [fyi, rt, austin, convention, center, today, f...  "
      ]
     },
     "execution_count": 21,
     "metadata": {},
     "output_type": "execute_result"
    }
   ],
   "source": [
    "def remove_stopwords(token_list):\n",
    "    stopwords_removed = [token for token in token_list if token not in stopwords_list]\n",
    "    return stopwords_removed\n",
    "\n",
    "X_train['no_stopwords'] = X_train['tokenized'].apply(remove_stopwords)\n",
    "X_train.head()"
   ]
  },
  {
   "cell_type": "code",
   "execution_count": 22,
   "metadata": {},
   "outputs": [
    {
     "name": "stdout",
     "output_type": "stream",
     "text": [
      "$: dollar\n",
      "    $ -$ --$ A$ C$ HK$ M$ NZ$ S$ U.S.$ US$\n",
      "'': closing quotation mark\n",
      "    ' ''\n",
      "(: opening parenthesis\n",
      "    ( [ {\n",
      "): closing parenthesis\n",
      "    ) ] }\n",
      ",: comma\n",
      "    ,\n",
      "--: dash\n",
      "    --\n",
      ".: sentence terminator\n",
      "    . ! ?\n",
      ":: colon or ellipsis\n",
      "    : ; ...\n",
      "CC: conjunction, coordinating\n",
      "    & 'n and both but either et for less minus neither nor or plus so\n",
      "    therefore times v. versus vs. whether yet\n",
      "CD: numeral, cardinal\n",
      "    mid-1890 nine-thirty forty-two one-tenth ten million 0.5 one forty-\n",
      "    seven 1987 twenty '79 zero two 78-degrees eighty-four IX '60s .025\n",
      "    fifteen 271,124 dozen quintillion DM2,000 ...\n",
      "DT: determiner\n",
      "    all an another any both del each either every half la many much nary\n",
      "    neither no some such that the them these this those\n",
      "EX: existential there\n",
      "    there\n",
      "FW: foreign word\n",
      "    gemeinschaft hund ich jeux habeas Haementeria Herr K'ang-si vous\n",
      "    lutihaw alai je jour objets salutaris fille quibusdam pas trop Monte\n",
      "    terram fiche oui corporis ...\n",
      "IN: preposition or conjunction, subordinating\n",
      "    astride among uppon whether out inside pro despite on by throughout\n",
      "    below within for towards near behind atop around if like until below\n",
      "    next into if beside ...\n",
      "JJ: adjective or numeral, ordinal\n",
      "    third ill-mannered pre-war regrettable oiled calamitous first separable\n",
      "    ectoplasmic battery-powered participatory fourth still-to-be-named\n",
      "    multilingual multi-disciplinary ...\n",
      "JJR: adjective, comparative\n",
      "    bleaker braver breezier briefer brighter brisker broader bumper busier\n",
      "    calmer cheaper choosier cleaner clearer closer colder commoner costlier\n",
      "    cozier creamier crunchier cuter ...\n",
      "JJS: adjective, superlative\n",
      "    calmest cheapest choicest classiest cleanest clearest closest commonest\n",
      "    corniest costliest crassest creepiest crudest cutest darkest deadliest\n",
      "    dearest deepest densest dinkiest ...\n",
      "LS: list item marker\n",
      "    A A. B B. C C. D E F First G H I J K One SP-44001 SP-44002 SP-44005\n",
      "    SP-44007 Second Third Three Two * a b c d first five four one six three\n",
      "    two\n",
      "MD: modal auxiliary\n",
      "    can cannot could couldn't dare may might must need ought shall should\n",
      "    shouldn't will would\n",
      "NN: noun, common, singular or mass\n",
      "    common-carrier cabbage knuckle-duster Casino afghan shed thermostat\n",
      "    investment slide humour falloff slick wind hyena override subhumanity\n",
      "    machinist ...\n",
      "NNP: noun, proper, singular\n",
      "    Motown Venneboerger Czestochwa Ranzer Conchita Trumplane Christos\n",
      "    Oceanside Escobar Kreisler Sawyer Cougar Yvette Ervin ODI Darryl CTCA\n",
      "    Shannon A.K.C. Meltex Liverpool ...\n",
      "NNPS: noun, proper, plural\n",
      "    Americans Americas Amharas Amityvilles Amusements Anarcho-Syndicalists\n",
      "    Andalusians Andes Andruses Angels Animals Anthony Antilles Antiques\n",
      "    Apache Apaches Apocrypha ...\n",
      "NNS: noun, common, plural\n",
      "    undergraduates scotches bric-a-brac products bodyguards facets coasts\n",
      "    divestitures storehouses designs clubs fragrances averages\n",
      "    subjectivists apprehensions muses factory-jobs ...\n",
      "PDT: pre-determiner\n",
      "    all both half many quite such sure this\n",
      "POS: genitive marker\n",
      "    ' 's\n",
      "PRP: pronoun, personal\n",
      "    hers herself him himself hisself it itself me myself one oneself ours\n",
      "    ourselves ownself self she thee theirs them themselves they thou thy us\n",
      "PRP$: pronoun, possessive\n",
      "    her his mine my our ours their thy your\n",
      "RB: adverb\n",
      "    occasionally unabatingly maddeningly adventurously professedly\n",
      "    stirringly prominently technologically magisterially predominately\n",
      "    swiftly fiscally pitilessly ...\n",
      "RBR: adverb, comparative\n",
      "    further gloomier grander graver greater grimmer harder harsher\n",
      "    healthier heavier higher however larger later leaner lengthier less-\n",
      "    perfectly lesser lonelier longer louder lower more ...\n",
      "RBS: adverb, superlative\n",
      "    best biggest bluntest earliest farthest first furthest hardest\n",
      "    heartiest highest largest least less most nearest second tightest worst\n",
      "RP: particle\n",
      "    aboard about across along apart around aside at away back before behind\n",
      "    by crop down ever fast for forth from go high i.e. in into just later\n",
      "    low more off on open out over per pie raising start teeth that through\n",
      "    under unto up up-pp upon whole with you\n",
      "SYM: symbol\n",
      "    % & ' '' ''. ) ). * + ,. < = > @ A[fj] U.S U.S.S.R * ** ***\n",
      "TO: \"to\" as preposition or infinitive marker\n",
      "    to\n",
      "UH: interjection\n",
      "    Goodbye Goody Gosh Wow Jeepers Jee-sus Hubba Hey Kee-reist Oops amen\n",
      "    huh howdy uh dammit whammo shucks heck anyways whodunnit honey golly\n",
      "    man baby diddle hush sonuvabitch ...\n",
      "VB: verb, base form\n",
      "    ask assemble assess assign assume atone attention avoid bake balkanize\n",
      "    bank begin behold believe bend benefit bevel beware bless boil bomb\n",
      "    boost brace break bring broil brush build ...\n",
      "VBD: verb, past tense\n",
      "    dipped pleaded swiped regummed soaked tidied convened halted registered\n",
      "    cushioned exacted snubbed strode aimed adopted belied figgered\n",
      "    speculated wore appreciated contemplated ...\n",
      "VBG: verb, present participle or gerund\n",
      "    telegraphing stirring focusing angering judging stalling lactating\n",
      "    hankerin' alleging veering capping approaching traveling besieging\n",
      "    encrypting interrupting erasing wincing ...\n",
      "VBN: verb, past participle\n",
      "    multihulled dilapidated aerosolized chaired languished panelized used\n",
      "    experimented flourished imitated reunifed factored condensed sheared\n",
      "    unsettled primed dubbed desired ...\n",
      "VBP: verb, present tense, not 3rd person singular\n",
      "    predominate wrap resort sue twist spill cure lengthen brush terminate\n",
      "    appear tend stray glisten obtain comprise detest tease attract\n",
      "    emphasize mold postpone sever return wag ...\n",
      "VBZ: verb, present tense, 3rd person singular\n",
      "    bases reconstructs marks mixes displeases seals carps weaves snatches\n",
      "    slumps stretches authorizes smolders pictures emerges stockpiles\n",
      "    seduces fizzes uses bolsters slaps speaks pleads ...\n",
      "WDT: WH-determiner\n",
      "    that what whatever which whichever\n",
      "WP: WH-pronoun\n",
      "    that what whatever whatsoever which who whom whosoever\n",
      "WP$: WH-pronoun, possessive\n",
      "    whose\n",
      "WRB: Wh-adverb\n",
      "    how however whence whenever where whereby whereever wherein whereof why\n",
      "``: opening quotation mark\n",
      "    ` ``\n"
     ]
    },
    {
     "name": "stderr",
     "output_type": "stream",
     "text": [
      "[nltk_data] Downloading package tagsets to /Users/olga/nltk_data...\n",
      "[nltk_data]   Package tagsets is already up-to-date!\n"
     ]
    }
   ],
   "source": [
    "import nltk\n",
    "nltk.download('tagsets')\n",
    "nltk.help.upenn_tagset()"
   ]
  },
  {
   "cell_type": "code",
   "execution_count": 23,
   "metadata": {},
   "outputs": [
    {
     "data": {
      "text/html": [
       "<div>\n",
       "<style scoped>\n",
       "    .dataframe tbody tr th:only-of-type {\n",
       "        vertical-align: middle;\n",
       "    }\n",
       "\n",
       "    .dataframe tbody tr th {\n",
       "        vertical-align: top;\n",
       "    }\n",
       "\n",
       "    .dataframe thead th {\n",
       "        text-align: right;\n",
       "    }\n",
       "</style>\n",
       "<table border=\"1\" class=\"dataframe\">\n",
       "  <thead>\n",
       "    <tr style=\"text-align: right;\">\n",
       "      <th></th>\n",
       "      <th>text</th>\n",
       "      <th>category</th>\n",
       "      <th>tokenized</th>\n",
       "      <th>no_stopwords</th>\n",
       "      <th>tagged</th>\n",
       "    </tr>\n",
       "  </thead>\n",
       "  <tbody>\n",
       "    <tr>\n",
       "      <th>8605</th>\n",
       "      <td>perfect attention to detail rt  google recreat...</td>\n",
       "      <td>Negative emotion</td>\n",
       "      <td>[perfect, attention, to, detail, rt, google, r...</td>\n",
       "      <td>[perfect, attention, detail, rt, google, recre...</td>\n",
       "      <td>[(perfect, JJ), (attention, NN), (detail, NN),...</td>\n",
       "    </tr>\n",
       "    <tr>\n",
       "      <th>1303</th>\n",
       "      <td>my iphone was stolen and i got it back !!!!!!</td>\n",
       "      <td>Neutral emotion</td>\n",
       "      <td>[my, iphone, was, stolen, and, got, it, back]</td>\n",
       "      <td>[iphone, stolen, got, back]</td>\n",
       "      <td>[(iphone, NN), (stolen, VBN), (got, VBD), (bac...</td>\n",
       "    </tr>\n",
       "    <tr>\n",
       "      <th>8759</th>\n",
       "      <td>fuck i love austin. just left the youtube goog...</td>\n",
       "      <td>Positive emotion</td>\n",
       "      <td>[fuck, love, austin, just, left, the, youtube,...</td>\n",
       "      <td>[fuck, love, austin, left, youtube, google, pa...</td>\n",
       "      <td>[(fuck, VBN), (love, NN), (austin, NN), (left,...</td>\n",
       "    </tr>\n",
       "    <tr>\n",
       "      <th>5021</th>\n",
       "      <td>spotted something rare a few minutes ago...a p...</td>\n",
       "      <td>Neutral emotion</td>\n",
       "      <td>[spotted, something, rare, few, minutes, ago, ...</td>\n",
       "      <td>[spotted, something, rare, minutes, ago, phone...</td>\n",
       "      <td>[(spotted, VBN), (something, NN), (rare, JJ), ...</td>\n",
       "    </tr>\n",
       "    <tr>\n",
       "      <th>3210</th>\n",
       "      <td>fyi  rt  i'll be at the austin convention cen...</td>\n",
       "      <td>Neutral emotion</td>\n",
       "      <td>[fyi, rt, ll, be, at, the, austin, convention,...</td>\n",
       "      <td>[fyi, rt, austin, convention, center, today, f...</td>\n",
       "      <td>[(fyi, NN), (rt, NN), (austin, JJ), (conventio...</td>\n",
       "    </tr>\n",
       "  </tbody>\n",
       "</table>\n",
       "</div>"
      ],
      "text/plain": [
       "                                                   text          category  \\\n",
       "8605  perfect attention to detail rt  google recreat...  Negative emotion   \n",
       "1303     my iphone was stolen and i got it back !!!!!!    Neutral emotion   \n",
       "8759  fuck i love austin. just left the youtube goog...  Positive emotion   \n",
       "5021  spotted something rare a few minutes ago...a p...   Neutral emotion   \n",
       "3210   fyi  rt  i'll be at the austin convention cen...   Neutral emotion   \n",
       "\n",
       "                                              tokenized  \\\n",
       "8605  [perfect, attention, to, detail, rt, google, r...   \n",
       "1303      [my, iphone, was, stolen, and, got, it, back]   \n",
       "8759  [fuck, love, austin, just, left, the, youtube,...   \n",
       "5021  [spotted, something, rare, few, minutes, ago, ...   \n",
       "3210  [fyi, rt, ll, be, at, the, austin, convention,...   \n",
       "\n",
       "                                           no_stopwords  \\\n",
       "8605  [perfect, attention, detail, rt, google, recre...   \n",
       "1303                        [iphone, stolen, got, back]   \n",
       "8759  [fuck, love, austin, left, youtube, google, pa...   \n",
       "5021  [spotted, something, rare, minutes, ago, phone...   \n",
       "3210  [fyi, rt, austin, convention, center, today, f...   \n",
       "\n",
       "                                                 tagged  \n",
       "8605  [(perfect, JJ), (attention, NN), (detail, NN),...  \n",
       "1303  [(iphone, NN), (stolen, VBN), (got, VBD), (bac...  \n",
       "8759  [(fuck, VBN), (love, NN), (austin, NN), (left,...  \n",
       "5021  [(spotted, VBN), (something, NN), (rare, JJ), ...  \n",
       "3210  [(fyi, NN), (rt, NN), (austin, JJ), (conventio...  "
      ]
     },
     "execution_count": 23,
     "metadata": {},
     "output_type": "execute_result"
    }
   ],
   "source": [
    "from nltk import pos_tag\n",
    "X_train['tagged'] = X_train.no_stopwords.apply(pos_tag)\n",
    "X_train.head()"
   ]
  },
  {
   "cell_type": "code",
   "execution_count": 24,
   "metadata": {},
   "outputs": [],
   "source": [
    "from nltk.corpus import wordnet\n",
    "def get_wordnet_pos(treebank_tag):\n",
    "    if treebank_tag.startswith('J'):\n",
    "        return wordnet.ADJ\n",
    "    elif treebank_tag.startswith('V'):\n",
    "        return wordnet.VERB\n",
    "    elif treebank_tag.startswith('N'):\n",
    "        return wordnet.NOUN\n",
    "    elif treebank_tag.startswith('R'):\n",
    "        return wordnet.ADV\n",
    "    else:\n",
    "        return wordnet.NOUN"
   ]
  },
  {
   "cell_type": "code",
   "execution_count": 25,
   "metadata": {},
   "outputs": [
    {
     "data": {
      "text/html": [
       "<div>\n",
       "<style scoped>\n",
       "    .dataframe tbody tr th:only-of-type {\n",
       "        vertical-align: middle;\n",
       "    }\n",
       "\n",
       "    .dataframe tbody tr th {\n",
       "        vertical-align: top;\n",
       "    }\n",
       "\n",
       "    .dataframe thead th {\n",
       "        text-align: right;\n",
       "    }\n",
       "</style>\n",
       "<table border=\"1\" class=\"dataframe\">\n",
       "  <thead>\n",
       "    <tr style=\"text-align: right;\">\n",
       "      <th></th>\n",
       "      <th>text</th>\n",
       "      <th>category</th>\n",
       "      <th>tokenized</th>\n",
       "      <th>no_stopwords</th>\n",
       "      <th>tagged</th>\n",
       "    </tr>\n",
       "  </thead>\n",
       "  <tbody>\n",
       "    <tr>\n",
       "      <th>8605</th>\n",
       "      <td>perfect attention to detail rt  google recreat...</td>\n",
       "      <td>Negative emotion</td>\n",
       "      <td>[perfect, attention, to, detail, rt, google, r...</td>\n",
       "      <td>[perfect, attention, detail, rt, google, recre...</td>\n",
       "      <td>[(perfect, a), (attention, n), (detail, n), (r...</td>\n",
       "    </tr>\n",
       "    <tr>\n",
       "      <th>1303</th>\n",
       "      <td>my iphone was stolen and i got it back !!!!!!</td>\n",
       "      <td>Neutral emotion</td>\n",
       "      <td>[my, iphone, was, stolen, and, got, it, back]</td>\n",
       "      <td>[iphone, stolen, got, back]</td>\n",
       "      <td>[(iphone, n), (stolen, v), (got, v), (back, r)]</td>\n",
       "    </tr>\n",
       "    <tr>\n",
       "      <th>8759</th>\n",
       "      <td>fuck i love austin. just left the youtube goog...</td>\n",
       "      <td>Positive emotion</td>\n",
       "      <td>[fuck, love, austin, just, left, the, youtube,...</td>\n",
       "      <td>[fuck, love, austin, left, youtube, google, pa...</td>\n",
       "      <td>[(fuck, v), (love, n), (austin, n), (left, v),...</td>\n",
       "    </tr>\n",
       "    <tr>\n",
       "      <th>5021</th>\n",
       "      <td>spotted something rare a few minutes ago...a p...</td>\n",
       "      <td>Neutral emotion</td>\n",
       "      <td>[spotted, something, rare, few, minutes, ago, ...</td>\n",
       "      <td>[spotted, something, rare, minutes, ago, phone...</td>\n",
       "      <td>[(spotted, v), (something, n), (rare, a), (min...</td>\n",
       "    </tr>\n",
       "    <tr>\n",
       "      <th>3210</th>\n",
       "      <td>fyi  rt  i'll be at the austin convention cen...</td>\n",
       "      <td>Neutral emotion</td>\n",
       "      <td>[fyi, rt, ll, be, at, the, austin, convention,...</td>\n",
       "      <td>[fyi, rt, austin, convention, center, today, f...</td>\n",
       "      <td>[(fyi, n), (rt, n), (austin, a), (convention, ...</td>\n",
       "    </tr>\n",
       "  </tbody>\n",
       "</table>\n",
       "</div>"
      ],
      "text/plain": [
       "                                                   text          category  \\\n",
       "8605  perfect attention to detail rt  google recreat...  Negative emotion   \n",
       "1303     my iphone was stolen and i got it back !!!!!!    Neutral emotion   \n",
       "8759  fuck i love austin. just left the youtube goog...  Positive emotion   \n",
       "5021  spotted something rare a few minutes ago...a p...   Neutral emotion   \n",
       "3210   fyi  rt  i'll be at the austin convention cen...   Neutral emotion   \n",
       "\n",
       "                                              tokenized  \\\n",
       "8605  [perfect, attention, to, detail, rt, google, r...   \n",
       "1303      [my, iphone, was, stolen, and, got, it, back]   \n",
       "8759  [fuck, love, austin, just, left, the, youtube,...   \n",
       "5021  [spotted, something, rare, few, minutes, ago, ...   \n",
       "3210  [fyi, rt, ll, be, at, the, austin, convention,...   \n",
       "\n",
       "                                           no_stopwords  \\\n",
       "8605  [perfect, attention, detail, rt, google, recre...   \n",
       "1303                        [iphone, stolen, got, back]   \n",
       "8759  [fuck, love, austin, left, youtube, google, pa...   \n",
       "5021  [spotted, something, rare, minutes, ago, phone...   \n",
       "3210  [fyi, rt, austin, convention, center, today, f...   \n",
       "\n",
       "                                                 tagged  \n",
       "8605  [(perfect, a), (attention, n), (detail, n), (r...  \n",
       "1303    [(iphone, n), (stolen, v), (got, v), (back, r)]  \n",
       "8759  [(fuck, v), (love, n), (austin, n), (left, v),...  \n",
       "5021  [(spotted, v), (something, n), (rare, a), (min...  \n",
       "3210  [(fyi, n), (rt, n), (austin, a), (convention, ...  "
      ]
     },
     "execution_count": 25,
     "metadata": {},
     "output_type": "execute_result"
    }
   ],
   "source": [
    "def tagged(token_list):\n",
    "    doc_tagged = [(token[0], get_wordnet_pos(token[1])) for token in token_list]\n",
    "    return doc_tagged\n",
    "\n",
    "X_train['tagged'] = X_train['tagged'].apply(tagged)\n",
    "X_train.head()"
   ]
  },
  {
   "cell_type": "code",
   "execution_count": 26,
   "metadata": {},
   "outputs": [
    {
     "data": {
      "text/html": [
       "<div>\n",
       "<style scoped>\n",
       "    .dataframe tbody tr th:only-of-type {\n",
       "        vertical-align: middle;\n",
       "    }\n",
       "\n",
       "    .dataframe tbody tr th {\n",
       "        vertical-align: top;\n",
       "    }\n",
       "\n",
       "    .dataframe thead th {\n",
       "        text-align: right;\n",
       "    }\n",
       "</style>\n",
       "<table border=\"1\" class=\"dataframe\">\n",
       "  <thead>\n",
       "    <tr style=\"text-align: right;\">\n",
       "      <th></th>\n",
       "      <th>text</th>\n",
       "      <th>category</th>\n",
       "      <th>tokenized</th>\n",
       "      <th>no_stopwords</th>\n",
       "      <th>tagged</th>\n",
       "      <th>lemmatized</th>\n",
       "    </tr>\n",
       "  </thead>\n",
       "  <tbody>\n",
       "    <tr>\n",
       "      <th>8605</th>\n",
       "      <td>perfect attention to detail rt  google recreat...</td>\n",
       "      <td>Negative emotion</td>\n",
       "      <td>[perfect, attention, to, detail, rt, google, r...</td>\n",
       "      <td>[perfect, attention, detail, rt, google, recre...</td>\n",
       "      <td>[(perfect, a), (attention, n), (detail, n), (r...</td>\n",
       "      <td>[perfect, attention, detail, rt, google, recre...</td>\n",
       "    </tr>\n",
       "    <tr>\n",
       "      <th>1303</th>\n",
       "      <td>my iphone was stolen and i got it back !!!!!!</td>\n",
       "      <td>Neutral emotion</td>\n",
       "      <td>[my, iphone, was, stolen, and, got, it, back]</td>\n",
       "      <td>[iphone, stolen, got, back]</td>\n",
       "      <td>[(iphone, n), (stolen, v), (got, v), (back, r)]</td>\n",
       "      <td>[iphone, steal, get, back]</td>\n",
       "    </tr>\n",
       "    <tr>\n",
       "      <th>8759</th>\n",
       "      <td>fuck i love austin. just left the youtube goog...</td>\n",
       "      <td>Positive emotion</td>\n",
       "      <td>[fuck, love, austin, just, left, the, youtube,...</td>\n",
       "      <td>[fuck, love, austin, left, youtube, google, pa...</td>\n",
       "      <td>[(fuck, v), (love, n), (austin, n), (left, v),...</td>\n",
       "      <td>[fuck, love, austin, leave, youtube, google, p...</td>\n",
       "    </tr>\n",
       "    <tr>\n",
       "      <th>5021</th>\n",
       "      <td>spotted something rare a few minutes ago...a p...</td>\n",
       "      <td>Neutral emotion</td>\n",
       "      <td>[spotted, something, rare, few, minutes, ago, ...</td>\n",
       "      <td>[spotted, something, rare, minutes, ago, phone...</td>\n",
       "      <td>[(spotted, v), (something, n), (rare, a), (min...</td>\n",
       "      <td>[spot, something, rare, minute, ago, phone, ma...</td>\n",
       "    </tr>\n",
       "    <tr>\n",
       "      <th>3210</th>\n",
       "      <td>fyi  rt  i'll be at the austin convention cen...</td>\n",
       "      <td>Neutral emotion</td>\n",
       "      <td>[fyi, rt, ll, be, at, the, austin, convention,...</td>\n",
       "      <td>[fyi, rt, austin, convention, center, today, f...</td>\n",
       "      <td>[(fyi, n), (rt, n), (austin, a), (convention, ...</td>\n",
       "      <td>[fyi, rt, austin, convention, center, today, f...</td>\n",
       "    </tr>\n",
       "  </tbody>\n",
       "</table>\n",
       "</div>"
      ],
      "text/plain": [
       "                                                   text          category  \\\n",
       "8605  perfect attention to detail rt  google recreat...  Negative emotion   \n",
       "1303     my iphone was stolen and i got it back !!!!!!    Neutral emotion   \n",
       "8759  fuck i love austin. just left the youtube goog...  Positive emotion   \n",
       "5021  spotted something rare a few minutes ago...a p...   Neutral emotion   \n",
       "3210   fyi  rt  i'll be at the austin convention cen...   Neutral emotion   \n",
       "\n",
       "                                              tokenized  \\\n",
       "8605  [perfect, attention, to, detail, rt, google, r...   \n",
       "1303      [my, iphone, was, stolen, and, got, it, back]   \n",
       "8759  [fuck, love, austin, just, left, the, youtube,...   \n",
       "5021  [spotted, something, rare, few, minutes, ago, ...   \n",
       "3210  [fyi, rt, ll, be, at, the, austin, convention,...   \n",
       "\n",
       "                                           no_stopwords  \\\n",
       "8605  [perfect, attention, detail, rt, google, recre...   \n",
       "1303                        [iphone, stolen, got, back]   \n",
       "8759  [fuck, love, austin, left, youtube, google, pa...   \n",
       "5021  [spotted, something, rare, minutes, ago, phone...   \n",
       "3210  [fyi, rt, austin, convention, center, today, f...   \n",
       "\n",
       "                                                 tagged  \\\n",
       "8605  [(perfect, a), (attention, n), (detail, n), (r...   \n",
       "1303    [(iphone, n), (stolen, v), (got, v), (back, r)]   \n",
       "8759  [(fuck, v), (love, n), (austin, n), (left, v),...   \n",
       "5021  [(spotted, v), (something, n), (rare, a), (min...   \n",
       "3210  [(fyi, n), (rt, n), (austin, a), (convention, ...   \n",
       "\n",
       "                                             lemmatized  \n",
       "8605  [perfect, attention, detail, rt, google, recre...  \n",
       "1303                         [iphone, steal, get, back]  \n",
       "8759  [fuck, love, austin, leave, youtube, google, p...  \n",
       "5021  [spot, something, rare, minute, ago, phone, ma...  \n",
       "3210  [fyi, rt, austin, convention, center, today, f...  "
      ]
     },
     "execution_count": 26,
     "metadata": {},
     "output_type": "execute_result"
    }
   ],
   "source": [
    "import nltk\n",
    "\n",
    "lemmatizer = nltk.stem.WordNetLemmatizer()\n",
    "\n",
    "def lemmatize_text(text):\n",
    "    return [lemmatizer.lemmatize(token[0], token[1]) for token in text]\n",
    "\n",
    "X_train['lemmatized'] = X_train.tagged.apply(lemmatize_text)\n",
    "X_train.head()"
   ]
  },
  {
   "cell_type": "code",
   "execution_count": 27,
   "metadata": {},
   "outputs": [
    {
     "data": {
      "image/png": "[encoded data removed]",
      "text/plain": [
       "<Figure size 432x288 with 1 Axes>"
      ]
     },
     "metadata": {
      "needs_background": "light"
     },
     "output_type": "display_data"
    },
    {
     "data": {
      "image/png": "[encoded data removed]",
      "text/plain": [
       "<Figure size 432x288 with 1 Axes>"
      ]
     },
     "metadata": {
      "needs_background": "light"
     },
     "output_type": "display_data"
    },
    {
     "data": {
      "image/png": "[encoded data removed]",
      "text/plain": [
       "<Figure size 432x288 with 1 Axes>"
      ]
     },
     "metadata": {
      "needs_background": "light"
     },
     "output_type": "display_data"
    }
   ],
   "source": [
    "from nltk import FreqDist\n",
    "import matplotlib.pyplot as plt\n",
    "from matplotlib.ticker import MaxNLocator\n",
    "\n",
    "positive_freq = FreqDist(X_train[X_train['category']=='Positive emotion']['lemmatized'].explode())\n",
    "negative_freq = FreqDist(X_train[X_train['category']=='Negative emotion']['lemmatized'].explode())\n",
    "neutral_freq = FreqDist(X_train[X_train['category']=='Neutral emotion']['lemmatized'].explode())\n",
    "\n",
    "def visualize_top_10(freq_dist, title):\n",
    "    top_10 = list(zip(*freq_dist.most_common(10)))\n",
    "    tokens = top_10[0]\n",
    "    counts = top_10[1]\n",
    "    fig, ax = plt.subplots()\n",
    "    fig.set_tight_layout(True)\n",
    "    ax.bar(tokens, counts)\n",
    "    ax.set_title(title)\n",
    "    ax.set_ylabel('Count')\n",
    "    ax.yaxis.set_major_locator(MaxNLocator(integer=True))\n",
    "    ax.tick_params(axis='x', rotation=90)\n",
    "    \n",
    "visualize_top_10(positive_freq, \"Word Frequency for Positive Emotion\")\n",
    "visualize_top_10(negative_freq, \"Word Frequency for Negative Emotion\")\n",
    "visualize_top_10(neutral_freq, \"Word Frequency for Neutral Emotion\")"
   ]
  },
  {
   "cell_type": "code",
   "execution_count": 28,
   "metadata": {},
   "outputs": [
    {
     "data": {
      "text/html": [
       "<div>\n",
       "<style scoped>\n",
       "    .dataframe tbody tr th:only-of-type {\n",
       "        vertical-align: middle;\n",
       "    }\n",
       "\n",
       "    .dataframe tbody tr th {\n",
       "        vertical-align: top;\n",
       "    }\n",
       "\n",
       "    .dataframe thead th {\n",
       "        text-align: right;\n",
       "    }\n",
       "</style>\n",
       "<table border=\"1\" class=\"dataframe\">\n",
       "  <thead>\n",
       "    <tr style=\"text-align: right;\">\n",
       "      <th></th>\n",
       "      <th>text</th>\n",
       "      <th>category</th>\n",
       "      <th>tokenized</th>\n",
       "      <th>no_stopwords</th>\n",
       "      <th>tagged</th>\n",
       "      <th>lemmatized</th>\n",
       "      <th>lemmatized_text</th>\n",
       "    </tr>\n",
       "  </thead>\n",
       "  <tbody>\n",
       "    <tr>\n",
       "      <th>8605</th>\n",
       "      <td>perfect attention to detail rt  google recreat...</td>\n",
       "      <td>Negative emotion</td>\n",
       "      <td>[perfect, attention, to, detail, rt, google, r...</td>\n",
       "      <td>[perfect, attention, detail, rt, google, recre...</td>\n",
       "      <td>[(perfect, a), (attention, n), (detail, n), (r...</td>\n",
       "      <td>[perfect, attention, detail, rt, google, recre...</td>\n",
       "      <td>perfect attention detail rt google recreate co...</td>\n",
       "    </tr>\n",
       "    <tr>\n",
       "      <th>1303</th>\n",
       "      <td>my iphone was stolen and i got it back !!!!!!</td>\n",
       "      <td>Neutral emotion</td>\n",
       "      <td>[my, iphone, was, stolen, and, got, it, back]</td>\n",
       "      <td>[iphone, stolen, got, back]</td>\n",
       "      <td>[(iphone, n), (stolen, v), (got, v), (back, r)]</td>\n",
       "      <td>[iphone, steal, get, back]</td>\n",
       "      <td>iphone steal get back</td>\n",
       "    </tr>\n",
       "    <tr>\n",
       "      <th>8759</th>\n",
       "      <td>fuck i love austin. just left the youtube goog...</td>\n",
       "      <td>Positive emotion</td>\n",
       "      <td>[fuck, love, austin, just, left, the, youtube,...</td>\n",
       "      <td>[fuck, love, austin, left, youtube, google, pa...</td>\n",
       "      <td>[(fuck, v), (love, n), (austin, n), (left, v),...</td>\n",
       "      <td>[fuck, love, austin, leave, youtube, google, p...</td>\n",
       "      <td>fuck love austin leave youtube google party ma...</td>\n",
       "    </tr>\n",
       "    <tr>\n",
       "      <th>5021</th>\n",
       "      <td>spotted something rare a few minutes ago...a p...</td>\n",
       "      <td>Neutral emotion</td>\n",
       "      <td>[spotted, something, rare, few, minutes, ago, ...</td>\n",
       "      <td>[spotted, something, rare, minutes, ago, phone...</td>\n",
       "      <td>[(spotted, v), (something, n), (rare, a), (min...</td>\n",
       "      <td>[spot, something, rare, minute, ago, phone, ma...</td>\n",
       "      <td>spot something rare minute ago phone make appl...</td>\n",
       "    </tr>\n",
       "    <tr>\n",
       "      <th>3210</th>\n",
       "      <td>fyi  rt  i'll be at the austin convention cen...</td>\n",
       "      <td>Neutral emotion</td>\n",
       "      <td>[fyi, rt, ll, be, at, the, austin, convention,...</td>\n",
       "      <td>[fyi, rt, austin, convention, center, today, f...</td>\n",
       "      <td>[(fyi, n), (rt, n), (austin, a), (convention, ...</td>\n",
       "      <td>[fyi, rt, austin, convention, center, today, f...</td>\n",
       "      <td>fyi rt austin convention center today fam show...</td>\n",
       "    </tr>\n",
       "  </tbody>\n",
       "</table>\n",
       "</div>"
      ],
      "text/plain": [
       "                                                   text          category  \\\n",
       "8605  perfect attention to detail rt  google recreat...  Negative emotion   \n",
       "1303     my iphone was stolen and i got it back !!!!!!    Neutral emotion   \n",
       "8759  fuck i love austin. just left the youtube goog...  Positive emotion   \n",
       "5021  spotted something rare a few minutes ago...a p...   Neutral emotion   \n",
       "3210   fyi  rt  i'll be at the austin convention cen...   Neutral emotion   \n",
       "\n",
       "                                              tokenized  \\\n",
       "8605  [perfect, attention, to, detail, rt, google, r...   \n",
       "1303      [my, iphone, was, stolen, and, got, it, back]   \n",
       "8759  [fuck, love, austin, just, left, the, youtube,...   \n",
       "5021  [spotted, something, rare, few, minutes, ago, ...   \n",
       "3210  [fyi, rt, ll, be, at, the, austin, convention,...   \n",
       "\n",
       "                                           no_stopwords  \\\n",
       "8605  [perfect, attention, detail, rt, google, recre...   \n",
       "1303                        [iphone, stolen, got, back]   \n",
       "8759  [fuck, love, austin, left, youtube, google, pa...   \n",
       "5021  [spotted, something, rare, minutes, ago, phone...   \n",
       "3210  [fyi, rt, austin, convention, center, today, f...   \n",
       "\n",
       "                                                 tagged  \\\n",
       "8605  [(perfect, a), (attention, n), (detail, n), (r...   \n",
       "1303    [(iphone, n), (stolen, v), (got, v), (back, r)]   \n",
       "8759  [(fuck, v), (love, n), (austin, n), (left, v),...   \n",
       "5021  [(spotted, v), (something, n), (rare, a), (min...   \n",
       "3210  [(fyi, n), (rt, n), (austin, a), (convention, ...   \n",
       "\n",
       "                                             lemmatized  \\\n",
       "8605  [perfect, attention, detail, rt, google, recre...   \n",
       "1303                         [iphone, steal, get, back]   \n",
       "8759  [fuck, love, austin, leave, youtube, google, p...   \n",
       "5021  [spot, something, rare, minute, ago, phone, ma...   \n",
       "3210  [fyi, rt, austin, convention, center, today, f...   \n",
       "\n",
       "                                        lemmatized_text  \n",
       "8605  perfect attention detail rt google recreate co...  \n",
       "1303                              iphone steal get back  \n",
       "8759  fuck love austin leave youtube google party ma...  \n",
       "5021  spot something rare minute ago phone make appl...  \n",
       "3210  fyi rt austin convention center today fam show...  "
      ]
     },
     "execution_count": 28,
     "metadata": {},
     "output_type": "execute_result"
    }
   ],
   "source": [
    "def lemmatized(text):\n",
    "    return \" \".join(text)\n",
    "\n",
    "X_train['lemmatized_text'] = X_train.lemmatized.apply(lemmatized)\n",
    "X_train.head()"
   ]
  },
  {
   "cell_type": "code",
   "execution_count": 29,
   "metadata": {},
   "outputs": [
    {
     "data": {
      "text/html": [
       "<div>\n",
       "<style scoped>\n",
       "    .dataframe tbody tr th:only-of-type {\n",
       "        vertical-align: middle;\n",
       "    }\n",
       "\n",
       "    .dataframe tbody tr th {\n",
       "        vertical-align: top;\n",
       "    }\n",
       "\n",
       "    .dataframe thead th {\n",
       "        text-align: right;\n",
       "    }\n",
       "</style>\n",
       "<table border=\"1\" class=\"dataframe\">\n",
       "  <thead>\n",
       "    <tr style=\"text-align: right;\">\n",
       "      <th></th>\n",
       "      <th>00</th>\n",
       "      <th>000</th>\n",
       "      <th>00am</th>\n",
       "      <th>00pm</th>\n",
       "      <th>02</th>\n",
       "      <th>03</th>\n",
       "      <th>0310apple</th>\n",
       "      <th>06</th>\n",
       "      <th>10</th>\n",
       "      <th>100</th>\n",
       "      <th>...</th>\n",
       "      <th>ûïspecial</th>\n",
       "      <th>ûïthe</th>\n",
       "      <th>ûïwin</th>\n",
       "      <th>ûò</th>\n",
       "      <th>ûòand</th>\n",
       "      <th>ûó</th>\n",
       "      <th>ûócan</th>\n",
       "      <th>ûólewis</th>\n",
       "      <th>ûólots</th>\n",
       "      <th>ûóthe</th>\n",
       "    </tr>\n",
       "  </thead>\n",
       "  <tbody>\n",
       "    <tr>\n",
       "      <th>0</th>\n",
       "      <td>0.0</td>\n",
       "      <td>0.0</td>\n",
       "      <td>0.0</td>\n",
       "      <td>0.0</td>\n",
       "      <td>0.0</td>\n",
       "      <td>0.0</td>\n",
       "      <td>0.0</td>\n",
       "      <td>0.0</td>\n",
       "      <td>0.0</td>\n",
       "      <td>0.0</td>\n",
       "      <td>...</td>\n",
       "      <td>0.0</td>\n",
       "      <td>0.0</td>\n",
       "      <td>0.0</td>\n",
       "      <td>0.0</td>\n",
       "      <td>0.0</td>\n",
       "      <td>0.0</td>\n",
       "      <td>0.0</td>\n",
       "      <td>0.0</td>\n",
       "      <td>0.0</td>\n",
       "      <td>0.0</td>\n",
       "    </tr>\n",
       "    <tr>\n",
       "      <th>1</th>\n",
       "      <td>0.0</td>\n",
       "      <td>0.0</td>\n",
       "      <td>0.0</td>\n",
       "      <td>0.0</td>\n",
       "      <td>0.0</td>\n",
       "      <td>0.0</td>\n",
       "      <td>0.0</td>\n",
       "      <td>0.0</td>\n",
       "      <td>0.0</td>\n",
       "      <td>0.0</td>\n",
       "      <td>...</td>\n",
       "      <td>0.0</td>\n",
       "      <td>0.0</td>\n",
       "      <td>0.0</td>\n",
       "      <td>0.0</td>\n",
       "      <td>0.0</td>\n",
       "      <td>0.0</td>\n",
       "      <td>0.0</td>\n",
       "      <td>0.0</td>\n",
       "      <td>0.0</td>\n",
       "      <td>0.0</td>\n",
       "    </tr>\n",
       "    <tr>\n",
       "      <th>2</th>\n",
       "      <td>0.0</td>\n",
       "      <td>0.0</td>\n",
       "      <td>0.0</td>\n",
       "      <td>0.0</td>\n",
       "      <td>0.0</td>\n",
       "      <td>0.0</td>\n",
       "      <td>0.0</td>\n",
       "      <td>0.0</td>\n",
       "      <td>0.0</td>\n",
       "      <td>0.0</td>\n",
       "      <td>...</td>\n",
       "      <td>0.0</td>\n",
       "      <td>0.0</td>\n",
       "      <td>0.0</td>\n",
       "      <td>0.0</td>\n",
       "      <td>0.0</td>\n",
       "      <td>0.0</td>\n",
       "      <td>0.0</td>\n",
       "      <td>0.0</td>\n",
       "      <td>0.0</td>\n",
       "      <td>0.0</td>\n",
       "    </tr>\n",
       "    <tr>\n",
       "      <th>3</th>\n",
       "      <td>0.0</td>\n",
       "      <td>0.0</td>\n",
       "      <td>0.0</td>\n",
       "      <td>0.0</td>\n",
       "      <td>0.0</td>\n",
       "      <td>0.0</td>\n",
       "      <td>0.0</td>\n",
       "      <td>0.0</td>\n",
       "      <td>0.0</td>\n",
       "      <td>0.0</td>\n",
       "      <td>...</td>\n",
       "      <td>0.0</td>\n",
       "      <td>0.0</td>\n",
       "      <td>0.0</td>\n",
       "      <td>0.0</td>\n",
       "      <td>0.0</td>\n",
       "      <td>0.0</td>\n",
       "      <td>0.0</td>\n",
       "      <td>0.0</td>\n",
       "      <td>0.0</td>\n",
       "      <td>0.0</td>\n",
       "    </tr>\n",
       "    <tr>\n",
       "      <th>4</th>\n",
       "      <td>0.0</td>\n",
       "      <td>0.0</td>\n",
       "      <td>0.0</td>\n",
       "      <td>0.0</td>\n",
       "      <td>0.0</td>\n",
       "      <td>0.0</td>\n",
       "      <td>0.0</td>\n",
       "      <td>0.0</td>\n",
       "      <td>0.0</td>\n",
       "      <td>0.0</td>\n",
       "      <td>...</td>\n",
       "      <td>0.0</td>\n",
       "      <td>0.0</td>\n",
       "      <td>0.0</td>\n",
       "      <td>0.0</td>\n",
       "      <td>0.0</td>\n",
       "      <td>0.0</td>\n",
       "      <td>0.0</td>\n",
       "      <td>0.0</td>\n",
       "      <td>0.0</td>\n",
       "      <td>0.0</td>\n",
       "    </tr>\n",
       "    <tr>\n",
       "      <th>...</th>\n",
       "      <td>...</td>\n",
       "      <td>...</td>\n",
       "      <td>...</td>\n",
       "      <td>...</td>\n",
       "      <td>...</td>\n",
       "      <td>...</td>\n",
       "      <td>...</td>\n",
       "      <td>...</td>\n",
       "      <td>...</td>\n",
       "      <td>...</td>\n",
       "      <td>...</td>\n",
       "      <td>...</td>\n",
       "      <td>...</td>\n",
       "      <td>...</td>\n",
       "      <td>...</td>\n",
       "      <td>...</td>\n",
       "      <td>...</td>\n",
       "      <td>...</td>\n",
       "      <td>...</td>\n",
       "      <td>...</td>\n",
       "      <td>...</td>\n",
       "    </tr>\n",
       "    <tr>\n",
       "      <th>6814</th>\n",
       "      <td>0.0</td>\n",
       "      <td>0.0</td>\n",
       "      <td>0.0</td>\n",
       "      <td>0.0</td>\n",
       "      <td>0.0</td>\n",
       "      <td>0.0</td>\n",
       "      <td>0.0</td>\n",
       "      <td>0.0</td>\n",
       "      <td>0.0</td>\n",
       "      <td>0.0</td>\n",
       "      <td>...</td>\n",
       "      <td>0.0</td>\n",
       "      <td>0.0</td>\n",
       "      <td>0.0</td>\n",
       "      <td>0.0</td>\n",
       "      <td>0.0</td>\n",
       "      <td>0.0</td>\n",
       "      <td>0.0</td>\n",
       "      <td>0.0</td>\n",
       "      <td>0.0</td>\n",
       "      <td>0.0</td>\n",
       "    </tr>\n",
       "    <tr>\n",
       "      <th>6815</th>\n",
       "      <td>0.0</td>\n",
       "      <td>0.0</td>\n",
       "      <td>0.0</td>\n",
       "      <td>0.0</td>\n",
       "      <td>0.0</td>\n",
       "      <td>0.0</td>\n",
       "      <td>0.0</td>\n",
       "      <td>0.0</td>\n",
       "      <td>0.0</td>\n",
       "      <td>0.0</td>\n",
       "      <td>...</td>\n",
       "      <td>0.0</td>\n",
       "      <td>0.0</td>\n",
       "      <td>0.0</td>\n",
       "      <td>0.0</td>\n",
       "      <td>0.0</td>\n",
       "      <td>0.0</td>\n",
       "      <td>0.0</td>\n",
       "      <td>0.0</td>\n",
       "      <td>0.0</td>\n",
       "      <td>0.0</td>\n",
       "    </tr>\n",
       "    <tr>\n",
       "      <th>6816</th>\n",
       "      <td>0.0</td>\n",
       "      <td>0.0</td>\n",
       "      <td>0.0</td>\n",
       "      <td>0.0</td>\n",
       "      <td>0.0</td>\n",
       "      <td>0.0</td>\n",
       "      <td>0.0</td>\n",
       "      <td>0.0</td>\n",
       "      <td>0.0</td>\n",
       "      <td>0.0</td>\n",
       "      <td>...</td>\n",
       "      <td>0.0</td>\n",
       "      <td>0.0</td>\n",
       "      <td>0.0</td>\n",
       "      <td>0.0</td>\n",
       "      <td>0.0</td>\n",
       "      <td>0.0</td>\n",
       "      <td>0.0</td>\n",
       "      <td>0.0</td>\n",
       "      <td>0.0</td>\n",
       "      <td>0.0</td>\n",
       "    </tr>\n",
       "    <tr>\n",
       "      <th>6817</th>\n",
       "      <td>0.0</td>\n",
       "      <td>0.0</td>\n",
       "      <td>0.0</td>\n",
       "      <td>0.0</td>\n",
       "      <td>0.0</td>\n",
       "      <td>0.0</td>\n",
       "      <td>0.0</td>\n",
       "      <td>0.0</td>\n",
       "      <td>0.0</td>\n",
       "      <td>0.0</td>\n",
       "      <td>...</td>\n",
       "      <td>0.0</td>\n",
       "      <td>0.0</td>\n",
       "      <td>0.0</td>\n",
       "      <td>0.0</td>\n",
       "      <td>0.0</td>\n",
       "      <td>0.0</td>\n",
       "      <td>0.0</td>\n",
       "      <td>0.0</td>\n",
       "      <td>0.0</td>\n",
       "      <td>0.0</td>\n",
       "    </tr>\n",
       "    <tr>\n",
       "      <th>6818</th>\n",
       "      <td>0.0</td>\n",
       "      <td>0.0</td>\n",
       "      <td>0.0</td>\n",
       "      <td>0.0</td>\n",
       "      <td>0.0</td>\n",
       "      <td>0.0</td>\n",
       "      <td>0.0</td>\n",
       "      <td>0.0</td>\n",
       "      <td>0.0</td>\n",
       "      <td>0.0</td>\n",
       "      <td>...</td>\n",
       "      <td>0.0</td>\n",
       "      <td>0.0</td>\n",
       "      <td>0.0</td>\n",
       "      <td>0.0</td>\n",
       "      <td>0.0</td>\n",
       "      <td>0.0</td>\n",
       "      <td>0.0</td>\n",
       "      <td>0.0</td>\n",
       "      <td>0.0</td>\n",
       "      <td>0.0</td>\n",
       "    </tr>\n",
       "  </tbody>\n",
       "</table>\n",
       "<p>6819 rows × 6368 columns</p>\n",
       "</div>"
      ],
      "text/plain": [
       "       00  000  00am  00pm   02   03  0310apple   06   10  100  ...  \\\n",
       "0     0.0  0.0   0.0   0.0  0.0  0.0        0.0  0.0  0.0  0.0  ...   \n",
       "1     0.0  0.0   0.0   0.0  0.0  0.0        0.0  0.0  0.0  0.0  ...   \n",
       "2     0.0  0.0   0.0   0.0  0.0  0.0        0.0  0.0  0.0  0.0  ...   \n",
       "3     0.0  0.0   0.0   0.0  0.0  0.0        0.0  0.0  0.0  0.0  ...   \n",
       "4     0.0  0.0   0.0   0.0  0.0  0.0        0.0  0.0  0.0  0.0  ...   \n",
       "...   ...  ...   ...   ...  ...  ...        ...  ...  ...  ...  ...   \n",
       "6814  0.0  0.0   0.0   0.0  0.0  0.0        0.0  0.0  0.0  0.0  ...   \n",
       "6815  0.0  0.0   0.0   0.0  0.0  0.0        0.0  0.0  0.0  0.0  ...   \n",
       "6816  0.0  0.0   0.0   0.0  0.0  0.0        0.0  0.0  0.0  0.0  ...   \n",
       "6817  0.0  0.0   0.0   0.0  0.0  0.0        0.0  0.0  0.0  0.0  ...   \n",
       "6818  0.0  0.0   0.0   0.0  0.0  0.0        0.0  0.0  0.0  0.0  ...   \n",
       "\n",
       "      ûïspecial  ûïthe  ûïwin   ûò  ûòand   ûó  ûócan  ûólewis  ûólots  ûóthe  \n",
       "0           0.0    0.0    0.0  0.0    0.0  0.0    0.0      0.0     0.0    0.0  \n",
       "1           0.0    0.0    0.0  0.0    0.0  0.0    0.0      0.0     0.0    0.0  \n",
       "2           0.0    0.0    0.0  0.0    0.0  0.0    0.0      0.0     0.0    0.0  \n",
       "3           0.0    0.0    0.0  0.0    0.0  0.0    0.0      0.0     0.0    0.0  \n",
       "4           0.0    0.0    0.0  0.0    0.0  0.0    0.0      0.0     0.0    0.0  \n",
       "...         ...    ...    ...  ...    ...  ...    ...      ...     ...    ...  \n",
       "6814        0.0    0.0    0.0  0.0    0.0  0.0    0.0      0.0     0.0    0.0  \n",
       "6815        0.0    0.0    0.0  0.0    0.0  0.0    0.0      0.0     0.0    0.0  \n",
       "6816        0.0    0.0    0.0  0.0    0.0  0.0    0.0      0.0     0.0    0.0  \n",
       "6817        0.0    0.0    0.0  0.0    0.0  0.0    0.0      0.0     0.0    0.0  \n",
       "6818        0.0    0.0    0.0  0.0    0.0  0.0    0.0      0.0     0.0    0.0  \n",
       "\n",
       "[6819 rows x 6368 columns]"
      ]
     },
     "execution_count": 29,
     "metadata": {},
     "output_type": "execute_result"
    }
   ],
   "source": [
    "from sklearn.feature_extraction.text import TfidfVectorizer\n",
    "tfidf = TfidfVectorizer()\n",
    "X_train_vectorized = tfidf.fit_transform(X_train['lemmatized_text'])\n",
    "df = pd.DataFrame(X_train_vectorized.toarray(), columns=tfidf.get_feature_names())\n",
    "df"
   ]
  },
  {
   "cell_type": "code",
   "execution_count": 30,
   "metadata": {},
   "outputs": [
    {
     "name": "stdout",
     "output_type": "stream",
     "text": [
      "2    4185\n",
      "1    4185\n",
      "0    4185\n",
      "Name: label, dtype: int64\n"
     ]
    }
   ],
   "source": [
    "from imblearn.over_sampling import SMOTE\n",
    "\n",
    "smote = SMOTE(random_state=42)\n",
    "\n",
    "# Preview the synthetic sample class distribution\n",
    "X_train_resampled, y_train_resampled = smote.fit_resample(X_train_vectorized, y_train)\n",
    "print(y_train_resampled.value_counts())"
   ]
  },
  {
   "cell_type": "code",
   "execution_count": 31,
   "metadata": {},
   "outputs": [
    {
     "data": {
      "text/html": [
       "<div>\n",
       "<style scoped>\n",
       "    .dataframe tbody tr th:only-of-type {\n",
       "        vertical-align: middle;\n",
       "    }\n",
       "\n",
       "    .dataframe tbody tr th {\n",
       "        vertical-align: top;\n",
       "    }\n",
       "\n",
       "    .dataframe thead th {\n",
       "        text-align: right;\n",
       "    }\n",
       "</style>\n",
       "<table border=\"1\" class=\"dataframe\">\n",
       "  <thead>\n",
       "    <tr style=\"text-align: right;\">\n",
       "      <th></th>\n",
       "      <th>text</th>\n",
       "      <th>category</th>\n",
       "      <th>tokenized</th>\n",
       "      <th>no_stopwords</th>\n",
       "      <th>tagged</th>\n",
       "      <th>lemmatized</th>\n",
       "      <th>lemmatized_text_test</th>\n",
       "    </tr>\n",
       "  </thead>\n",
       "  <tbody>\n",
       "    <tr>\n",
       "      <th>7169</th>\n",
       "      <td>google close to launching new social network -...</td>\n",
       "      <td>Neutral emotion</td>\n",
       "      <td>[google, close, to, launching, new, social, ne...</td>\n",
       "      <td>[google, close, launching, new, social, networ...</td>\n",
       "      <td>[(google, n), (close, r), (launching, v), (new...</td>\n",
       "      <td>[google, close, launch, new, social, network, ...</td>\n",
       "      <td>google close launch new social network circle ...</td>\n",
       "    </tr>\n",
       "    <tr>\n",
       "      <th>2089</th>\n",
       "      <td>iphone charging at   {link}</td>\n",
       "      <td>Neutral emotion</td>\n",
       "      <td>[iphone, charging, at, link]</td>\n",
       "      <td>[iphone, charging, link]</td>\n",
       "      <td>[(iphone, n), (charging, v), (link, n)]</td>\n",
       "      <td>[iphone, charge, link]</td>\n",
       "      <td>iphone charge link</td>\n",
       "    </tr>\n",
       "    <tr>\n",
       "      <th>2303</th>\n",
       "      <td>the walk by lady bird lake was lovely, but goo...</td>\n",
       "      <td>Negative emotion</td>\n",
       "      <td>[the, walk, by, lady, bird, lake, was, lovely,...</td>\n",
       "      <td>[walk, lady, bird, lake, lovely, google, maps,...</td>\n",
       "      <td>[(walk, n), (lady, a), (bird, n), (lake, n), (...</td>\n",
       "      <td>[walk, lady, bird, lake, lovely, google, map, ...</td>\n",
       "      <td>walk lady bird lake lovely google map travel t...</td>\n",
       "    </tr>\n",
       "    <tr>\n",
       "      <th>928</th>\n",
       "      <td>ûï not a rumor: apple doing popup store in do...</td>\n",
       "      <td>Positive emotion</td>\n",
       "      <td>[ûï, not, rumor, apple, doing, popup, store, i...</td>\n",
       "      <td>[ûï, rumor, apple, popup, store, downtown, aus...</td>\n",
       "      <td>[(ûï, a), (rumor, n), (apple, n), (popup, n), ...</td>\n",
       "      <td>[ûï, rumor, apple, popup, store, downtown, aus...</td>\n",
       "      <td>ûï rumor apple popup store downtown austin amp...</td>\n",
       "    </tr>\n",
       "    <tr>\n",
       "      <th>5895</th>\n",
       "      <td>rt  google to launch major new social network ...</td>\n",
       "      <td>Neutral emotion</td>\n",
       "      <td>[rt, google, to, launch, major, new, social, n...</td>\n",
       "      <td>[rt, google, launch, major, new, social, netwo...</td>\n",
       "      <td>[(rt, n), (google, n), (launch, n), (major, a)...</td>\n",
       "      <td>[rt, google, launch, major, new, social, netwo...</td>\n",
       "      <td>rt google launch major new social network call...</td>\n",
       "    </tr>\n",
       "  </tbody>\n",
       "</table>\n",
       "</div>"
      ],
      "text/plain": [
       "                                                   text          category  \\\n",
       "7169  google close to launching new social network -...   Neutral emotion   \n",
       "2089                        iphone charging at   {link}   Neutral emotion   \n",
       "2303  the walk by lady bird lake was lovely, but goo...  Negative emotion   \n",
       "928   ûï not a rumor: apple doing popup store in do...  Positive emotion   \n",
       "5895  rt  google to launch major new social network ...   Neutral emotion   \n",
       "\n",
       "                                              tokenized  \\\n",
       "7169  [google, close, to, launching, new, social, ne...   \n",
       "2089                       [iphone, charging, at, link]   \n",
       "2303  [the, walk, by, lady, bird, lake, was, lovely,...   \n",
       "928   [ûï, not, rumor, apple, doing, popup, store, i...   \n",
       "5895  [rt, google, to, launch, major, new, social, n...   \n",
       "\n",
       "                                           no_stopwords  \\\n",
       "7169  [google, close, launching, new, social, networ...   \n",
       "2089                           [iphone, charging, link]   \n",
       "2303  [walk, lady, bird, lake, lovely, google, maps,...   \n",
       "928   [ûï, rumor, apple, popup, store, downtown, aus...   \n",
       "5895  [rt, google, launch, major, new, social, netwo...   \n",
       "\n",
       "                                                 tagged  \\\n",
       "7169  [(google, n), (close, r), (launching, v), (new...   \n",
       "2089            [(iphone, n), (charging, v), (link, n)]   \n",
       "2303  [(walk, n), (lady, a), (bird, n), (lake, n), (...   \n",
       "928   [(ûï, a), (rumor, n), (apple, n), (popup, n), ...   \n",
       "5895  [(rt, n), (google, n), (launch, n), (major, a)...   \n",
       "\n",
       "                                             lemmatized  \\\n",
       "7169  [google, close, launch, new, social, network, ...   \n",
       "2089                             [iphone, charge, link]   \n",
       "2303  [walk, lady, bird, lake, lovely, google, map, ...   \n",
       "928   [ûï, rumor, apple, popup, store, downtown, aus...   \n",
       "5895  [rt, google, launch, major, new, social, netwo...   \n",
       "\n",
       "                                   lemmatized_text_test  \n",
       "7169  google close launch new social network circle ...  \n",
       "2089                                 iphone charge link  \n",
       "2303  walk lady bird lake lovely google map travel t...  \n",
       "928   ûï rumor apple popup store downtown austin amp...  \n",
       "5895  rt google launch major new social network call...  "
      ]
     },
     "execution_count": 31,
     "metadata": {},
     "output_type": "execute_result"
    }
   ],
   "source": [
    "X_test = pd.DataFrame(X_test, columns = ['text', 'category'])\n",
    "X_test['text'] = X_test['text'].str.lower()\n",
    "X_test['text'] = X_test['text'].str.replace('@[A-Za-z0-9_]+', '', regex=True)\n",
    "X_test['text'] = X_test['text'].str.replace('#[A-Za-z0-9_]+', '', regex=True)\n",
    "basic_token_pattern_test = r\"(?u)\\b\\w\\w+\\b\"\n",
    "tokenizer_test = RegexpTokenizer(basic_token_pattern_test)\n",
    "X_test['tokenized'] = X_test['text'].apply(tokenizer_test.tokenize)\n",
    "X_test['no_stopwords'] = X_test['tokenized'].apply(remove_stopwords)\n",
    "X_test['tagged'] = X_test.no_stopwords.apply(pos_tag)\n",
    "X_test['tagged'] = X_test['tagged'].apply(tagged)\n",
    "X_test['lemmatized'] = X_test.tagged.apply(lemmatize_text)\n",
    "X_test['lemmatized_text_test'] = X_test.lemmatized.apply(lemmatized)\n",
    "X_test.head()"
   ]
  },
  {
   "cell_type": "code",
   "execution_count": 32,
   "metadata": {},
   "outputs": [],
   "source": [
    "X_test_vectorized = tfidf.transform(X_test['lemmatized_text_test'])\n",
    "df_test = pd.DataFrame(X_test_vectorized.toarray(), columns=tfidf.get_feature_names())"
   ]
  },
  {
   "cell_type": "code",
   "execution_count": 33,
   "metadata": {},
   "outputs": [
    {
     "name": "stdout",
     "output_type": "stream",
     "text": [
      "Accuracy of Train Set:\n",
      "0.8424532058940661\n",
      "Accuracy of Test Set:\n",
      "0.5868895732512098\n"
     ]
    }
   ],
   "source": [
    "from sklearn.naive_bayes import MultinomialNB\n",
    "from sklearn.model_selection import cross_val_score\n",
    "\n",
    "mnb = MultinomialNB()\n",
    "mnb.fit(X_train_resampled, y_train_resampled)\n",
    "print(\"Accuracy of Train Set:\")\n",
    "print(mnb.score(X_train_resampled, y_train_resampled))\n",
    "print(\"Accuracy of Test Set:\")\n",
    "print(mnb.score(X_test_vectorized, y_test))"
   ]
  },
  {
   "cell_type": "code",
   "execution_count": 34,
   "metadata": {},
   "outputs": [
    {
     "data": {
      "image/png": "[encoded data removed]",
      "text/plain": [
       "<Figure size 432x288 with 2 Axes>"
      ]
     },
     "metadata": {
      "needs_background": "light"
     },
     "output_type": "display_data"
    }
   ],
   "source": [
    "from sklearn.metrics import plot_confusion_matrix\n",
    "plot_confusion_matrix(mnb, X_test_vectorized, y_test);\n",
    "# FP = 230"
   ]
  },
  {
   "cell_type": "code",
   "execution_count": 35,
   "metadata": {},
   "outputs": [
    {
     "name": "stdout",
     "output_type": "stream",
     "text": [
      "Classification Report of Multinomial Naive Bayes Model:\n",
      "              precision    recall  f1-score   support\n",
      "\n",
      "           0       0.76      0.56      0.65      1359\n",
      "           1       0.51      0.64      0.57       763\n",
      "           2       0.26      0.54      0.35       151\n",
      "\n",
      "    accuracy                           0.59      2273\n",
      "   macro avg       0.51      0.58      0.52      2273\n",
      "weighted avg       0.64      0.59      0.60      2273\n",
      "\n"
     ]
    }
   ],
   "source": [
    "from sklearn.metrics import classification_report\n",
    "preds = mnb.predict(X_test_vectorized)\n",
    "\n",
    "print('Classification Report of Multinomial Naive Bayes Model:')\n",
    "print(classification_report(y_test, preds))"
   ]
  },
  {
   "cell_type": "code",
   "execution_count": 36,
   "metadata": {},
   "outputs": [
    {
     "name": "stdout",
     "output_type": "stream",
     "text": [
      "Accuracy of Train Set:\n",
      "0.8874551971326164\n",
      "Accuracy of Test Set:\n",
      "0.6449626044874615\n"
     ]
    }
   ],
   "source": [
    "from sklearn.linear_model import LogisticRegression\n",
    "\n",
    "logreg = LogisticRegression(random_state=42)\n",
    "logreg.fit(X_train_resampled, y_train_resampled)\n",
    "print(\"Accuracy of Train Set:\")\n",
    "print(logreg.score(X_train_resampled, y_train_resampled))\n",
    "print(\"Accuracy of Test Set:\")\n",
    "print(logreg.score(X_test_vectorized, y_test))"
   ]
  },
  {
   "cell_type": "code",
   "execution_count": 37,
   "metadata": {},
   "outputs": [
    {
     "data": {
      "image/png": "[encoded data removed]",
      "text/plain": [
       "<Figure size 432x288 with 2 Axes>"
      ]
     },
     "metadata": {
      "needs_background": "light"
     },
     "output_type": "display_data"
    }
   ],
   "source": [
    "from sklearn.metrics import plot_confusion_matrix\n",
    "plot_confusion_matrix(logreg, X_test_vectorized, y_test);\n",
    "# FP = 140"
   ]
  },
  {
   "cell_type": "code",
   "execution_count": 38,
   "metadata": {},
   "outputs": [
    {
     "name": "stdout",
     "output_type": "stream",
     "text": [
      "Classification Report of Logistic Regression Model:\n",
      "              precision    recall  f1-score   support\n",
      "\n",
      "           0       0.75      0.69      0.72      1359\n",
      "           1       0.56      0.60      0.58       763\n",
      "           2       0.34      0.48      0.40       151\n",
      "\n",
      "    accuracy                           0.64      2273\n",
      "   macro avg       0.55      0.59      0.57      2273\n",
      "weighted avg       0.66      0.64      0.65      2273\n",
      "\n"
     ]
    }
   ],
   "source": [
    "preds = logreg.predict(X_test_vectorized)\n",
    "\n",
    "print('Classification Report of Logistic Regression Model:')\n",
    "print(classification_report(y_test, preds))"
   ]
  },
  {
   "cell_type": "code",
   "execution_count": 43,
   "metadata": {},
   "outputs": [
    {
     "name": "stdout",
     "output_type": "stream",
     "text": [
      "Accuracy of Train Set:\n",
      "0.9070489844683393\n",
      "Accuracy of Test Set:\n",
      "0.5631324241091069\n"
     ]
    }
   ],
   "source": [
    "from sklearn.neighbors import KNeighborsClassifier\n",
    "\n",
    "knn = KNeighborsClassifier()\n",
    "knn.fit(X_train_resampled, y_train_resampled)\n",
    "print(\"Accuracy of Train Set:\")\n",
    "print(knn.score(X_train_resampled, y_train_resampled))\n",
    "print(\"Accuracy of Test Set:\")\n",
    "print(knn.score(X_test_vectorized, y_test))"
   ]
  },
  {
   "cell_type": "code",
   "execution_count": 44,
   "metadata": {},
   "outputs": [
    {
     "data": {
      "image/png": "[encoded data removed]",
      "text/plain": [
       "<Figure size 432x288 with 2 Axes>"
      ]
     },
     "metadata": {
      "needs_background": "light"
     },
     "output_type": "display_data"
    }
   ],
   "source": [
    "plot_confusion_matrix(knn, X_test_vectorized, y_test);\n",
    "# FP = 207"
   ]
  },
  {
   "cell_type": "code",
   "execution_count": 45,
   "metadata": {},
   "outputs": [
    {
     "name": "stdout",
     "output_type": "stream",
     "text": [
      "Classification Report of KNN Model:\n",
      "              precision    recall  f1-score   support\n",
      "\n",
      "           0       0.67      0.64      0.66      1359\n",
      "           1       0.48      0.45      0.46       763\n",
      "           2       0.26      0.47      0.33       151\n",
      "\n",
      "    accuracy                           0.56      2273\n",
      "   macro avg       0.47      0.52      0.48      2273\n",
      "weighted avg       0.58      0.56      0.57      2273\n",
      "\n"
     ]
    }
   ],
   "source": [
    "preds = knn.predict(X_test_vectorized)\n",
    "\n",
    "print('Classification Report of KNN Model:')\n",
    "print(classification_report(y_test, preds))"
   ]
  },
  {
   "cell_type": "code",
   "execution_count": 46,
   "metadata": {},
   "outputs": [
    {
     "name": "stdout",
     "output_type": "stream",
     "text": [
      "Accuracy of Train Set:\n",
      "0.9598566308243728\n",
      "Accuracy of Test Set:\n",
      "0.6827980642322922\n"
     ]
    }
   ],
   "source": [
    "from sklearn.svm import SVC\n",
    "\n",
    "svc = SVC(random_state=42, probability=True)\n",
    "svc.fit(X_train_resampled, y_train_resampled)\n",
    "print(\"Accuracy of Train Set:\")\n",
    "print(svc.score(X_train_resampled, y_train_resampled))\n",
    "print(\"Accuracy of Test Set:\")\n",
    "print(svc.score(X_test_vectorized, y_test))"
   ]
  },
  {
   "cell_type": "code",
   "execution_count": 47,
   "metadata": {},
   "outputs": [
    {
     "data": {
      "image/png": "[encoded data removed]",
      "text/plain": [
       "<Figure size 432x288 with 2 Axes>"
      ]
     },
     "metadata": {
      "needs_background": "light"
     },
     "output_type": "display_data"
    }
   ],
   "source": [
    "plot_confusion_matrix(svc, X_test_vectorized, y_test);"
   ]
  },
  {
   "cell_type": "code",
   "execution_count": 48,
   "metadata": {},
   "outputs": [
    {
     "name": "stdout",
     "output_type": "stream",
     "text": [
      "Classification Report of SVC Model:\n",
      "              precision    recall  f1-score   support\n",
      "\n",
      "           0       0.70      0.84      0.77      1359\n",
      "           1       0.63      0.49      0.55       763\n",
      "           2       0.64      0.23      0.34       151\n",
      "\n",
      "    accuracy                           0.68      2273\n",
      "   macro avg       0.66      0.52      0.55      2273\n",
      "weighted avg       0.67      0.68      0.67      2273\n",
      "\n"
     ]
    }
   ],
   "source": [
    "preds = svc.predict(X_test_vectorized)\n",
    "\n",
    "print('Classification Report of SVC Model:')\n",
    "print(classification_report(y_test, preds))"
   ]
  },
  {
   "cell_type": "code",
   "execution_count": 53,
   "metadata": {},
   "outputs": [
    {
     "name": "stdout",
     "output_type": "stream",
     "text": [
      "Accuracy of Train Set:\n",
      "0.9941059338908801\n",
      "Accuracy of Test Set:\n",
      "0.6709194896612406\n"
     ]
    }
   ],
   "source": [
    "from sklearn.ensemble import RandomForestClassifier\n",
    "\n",
    "forest = RandomForestClassifier(random_state = 42)\n",
    "forest.fit(X_train_resampled, y_train_resampled)\n",
    "print(\"Accuracy of Train Set:\")\n",
    "print(forest.score(X_train_resampled, y_train_resampled))\n",
    "print(\"Accuracy of Test Set:\")\n",
    "print(forest.score(X_test_vectorized, y_test))"
   ]
  },
  {
   "cell_type": "code",
   "execution_count": 50,
   "metadata": {},
   "outputs": [
    {
     "data": {
      "image/png": "[encoded data removed]",
      "text/plain": [
       "<Figure size 432x288 with 2 Axes>"
      ]
     },
     "metadata": {
      "needs_background": "light"
     },
     "output_type": "display_data"
    }
   ],
   "source": [
    "plot_confusion_matrix(forest, X_test_vectorized, y_test);"
   ]
  },
  {
   "cell_type": "code",
   "execution_count": 51,
   "metadata": {},
   "outputs": [
    {
     "name": "stdout",
     "output_type": "stream",
     "text": [
      "Classification Report of Random Forest Model:\n",
      "              precision    recall  f1-score   support\n",
      "\n",
      "           0       0.70      0.81      0.76      1359\n",
      "           1       0.59      0.50      0.54       763\n",
      "           2       0.67      0.23      0.34       151\n",
      "\n",
      "    accuracy                           0.67      2273\n",
      "   macro avg       0.66      0.52      0.55      2273\n",
      "weighted avg       0.66      0.67      0.66      2273\n",
      "\n"
     ]
    }
   ],
   "source": [
    "preds = forest.predict(X_test_vectorized)\n",
    "\n",
    "print('Classification Report of Random Forest Model:')\n",
    "print(classification_report(y_test, preds))"
   ]
  },
  {
   "cell_type": "code",
   "execution_count": null,
   "metadata": {},
   "outputs": [],
   "source": []
  }
 ],
 "metadata": {
  "kernelspec": {
   "display_name": "Python (learn-env)",
   "language": "python",
   "name": "learn-env"
  },
  "language_info": {
   "codemirror_mode": {
    "name": "ipython",
    "version": 3
   },
   "file_extension": ".py",
   "mimetype": "text/x-python",
   "name": "python",
   "nbconvert_exporter": "python",
   "pygments_lexer": "ipython3",
   "version": "3.8.5"
  }
 },
 "nbformat": 4,
 "nbformat_minor": 4
}
